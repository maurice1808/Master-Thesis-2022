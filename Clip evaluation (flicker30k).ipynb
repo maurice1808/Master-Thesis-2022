{
 "cells": [
  {
   "cell_type": "code",
   "execution_count": 64,
   "metadata": {},
   "outputs": [],
   "source": [
    "#imports\n",
    "import torch\n",
    "import clip\n",
    "from PIL import Image\n",
    "import json\n",
    "import glob\n",
    "import numpy as np"
   ]
  },
  {
   "cell_type": "code",
   "execution_count": 78,
   "metadata": {},
   "outputs": [],
   "source": [
    "#load CLIP model\n",
    "device = \"cuda\" if torch.cuda.is_available() else \"cpu\"\n",
    "model, preprocess = clip.load(\"ViT-B/32\", device=device)"
   ]
  },
  {
   "cell_type": "code",
   "execution_count": 178,
   "metadata": {},
   "outputs": [],
   "source": [
    "#open captions\n",
    "f = open('datasets/flickr30k/results_20130124.token', encoding=\"utf8\")\n",
    "caption_ids = []\n",
    "captions = []\n",
    "for i in f:\n",
    "    cap = False\n",
    "    skip = 0\n",
    "    caption_id = \"\"\n",
    "    caption = \"\"\n",
    "    for j in i:\n",
    "        if j == '\\n':\n",
    "            break\n",
    "        if skip > 0:\n",
    "            skip -= 1\n",
    "            continue\n",
    "        if cap:\n",
    "            caption += j\n",
    "            continue\n",
    "        if j == '.':\n",
    "            cap = True\n",
    "            skip = 6\n",
    "        else:\n",
    "            caption_id += j\n",
    "    \n",
    "    caption_ids.append(int(caption_id))\n",
    "    captions.append(caption)"
   ]
  },
  {
   "cell_type": "code",
   "execution_count": 225,
   "metadata": {},
   "outputs": [],
   "source": [
    "# get image ids, captions and captions ids in lists\n",
    "image_ids = list(dict.fromkeys(caption_ids))\n",
    "image_ids.sort()\n",
    "\n",
    "zipped_lists = zip(caption_ids, captions)\n",
    "sorted_pairs = sorted(zipped_lists)\n",
    "tuples = zip(*sorted_pairs)\n",
    "caption_ids, captions = [list(tuple) for tuple in tuples]\n",
    "\n",
    "caption_ids = caption_ids[0:5000]\n",
    "captions = captions[0:5000]\n",
    "image_ids = image_ids[0:1000]"
   ]
  },
  {
   "cell_type": "code",
   "execution_count": null,
   "metadata": {},
   "outputs": [],
   "source": [
    "# load images\n",
    "images = []\n",
    "i = 0\n",
    "for id in image_ids:\n",
    "    filename = 'datasets/flickr30k/flickr30k-images/' + str(id) + '.jpg'\n",
    "    im=preprocess(Image.open(filename)).unsqueeze(0).to(device)\n",
    "    images.append(im)\n",
    "    i+=1\n",
    "    if (i%100) == 0:\n",
    "        print(i)\n",
    "    if i == 1000:\n",
    "            break\n",
    "        \n",
    "# turn list to tensor\n",
    "b = torch.Tensor(1000, 3, 224, 224)\n",
    "images = torch.cat(images, out=b)\n",
    "image_ids = torch.Tensor(image_ids)"
   ]
  },
  {
   "cell_type": "code",
   "execution_count": 227,
   "metadata": {},
   "outputs": [
    {
     "name": "stdout",
     "output_type": "stream",
     "text": [
      "0\n",
      "256\n",
      "512\n",
      "768\n"
     ]
    }
   ],
   "source": [
    "# encode images\n",
    "encoded_images = []\n",
    "with torch.no_grad():\n",
    "    for i in range(0, len(images), 32):\n",
    "        im=model.encode_image(images[i:i+32])\n",
    "        encoded_images.append(im)\n",
    "        if (i%256) == 0:\n",
    "            print(i)\n",
    "            \n",
    "# turn list to tensor\n",
    "b = torch.Tensor(1000, 512)\n",
    "encoded_images = torch.cat(encoded_images, out=b)\n",
    "encoded_images /= encoded_images.norm(dim=-1, keepdim=True)"
   ]
  },
  {
   "cell_type": "code",
   "execution_count": null,
   "metadata": {},
   "outputs": [],
   "source": [
    "text = clip.tokenize(captions).to(device)\n",
    "\n",
    "# encode captions\n",
    "text_features = []\n",
    "i = 0\n",
    "with torch.no_grad():\n",
    "    for i in range(0, len(text), 32): \n",
    "        t=model.encode_text(text[i:i+32])\n",
    "        text_features.append(t)\n",
    "        if (i%512) == 0:\n",
    "            print(i)\n",
    "            \n",
    "# turn list to tensor\n",
    "b = torch.Tensor(5000, 512)\n",
    "text_features = torch.cat(text_features, out=b)\n",
    "text_features /= text_features.norm(dim=-1, keepdim=True)\n",
    "\n",
    "encoded_captions = list(zip(caption_ids, text_features))"
   ]
  },
  {
   "cell_type": "code",
   "execution_count": 228,
   "metadata": {},
   "outputs": [
    {
     "data": {
      "text/plain": [
       "tensor(0.5816)"
      ]
     },
     "execution_count": 228,
     "metadata": {},
     "output_type": "execute_result"
    }
   ],
   "source": [
    "recall_1 = []\n",
    "for image_id, text_feature in encoded_captions: \n",
    "    similarity = (100.0 * text_feature @ encoded_images.T).softmax(dim=-1)\n",
    "    values, indices = similarity.topk(1)\n",
    "\n",
    "    recall_1.append(image_id in image_ids[indices])\n",
    "\n",
    "recall_1 = torch.Tensor(recall_1)\n",
    "\n",
    "recall_1.mean()"
   ]
  },
  {
   "cell_type": "code",
   "execution_count": 229,
   "metadata": {},
   "outputs": [
    {
     "data": {
      "text/plain": [
       "tensor(0.8302)"
      ]
     },
     "execution_count": 229,
     "metadata": {},
     "output_type": "execute_result"
    }
   ],
   "source": [
    "recall_5 = []\n",
    "for image_id, text_feature in encoded_captions: \n",
    "    similarity = (100.0 * text_feature @ encoded_images.T).softmax(dim=-1)\n",
    "    values, indices = similarity.topk(5)\n",
    "\n",
    "    recall_5.append(image_id in image_ids[indices])\n",
    "\n",
    "recall_5 = torch.Tensor(recall_5)\n",
    "\n",
    "recall_5.mean()"
   ]
  },
  {
   "cell_type": "code",
   "execution_count": 230,
   "metadata": {},
   "outputs": [
    {
     "data": {
      "text/plain": [
       "tensor(0.9016)"
      ]
     },
     "execution_count": 230,
     "metadata": {},
     "output_type": "execute_result"
    }
   ],
   "source": [
    "recall_10 = []\n",
    "for image_id, text_feature in encoded_captions: \n",
    "    similarity = (100.0 * text_feature @ encoded_images.T).softmax(dim=-1)\n",
    "    values, indices = similarity.topk(10)\n",
    "\n",
    "    recall_10.append(image_id in image_ids[indices])\n",
    "\n",
    "recall_10 = torch.Tensor(recall_10)\n",
    "\n",
    "recall_10.mean()"
   ]
  },
  {
   "cell_type": "code",
   "execution_count": 231,
   "metadata": {},
   "outputs": [
    {
     "data": {
      "text/plain": [
       "tensor(0.7730)"
      ]
     },
     "execution_count": 231,
     "metadata": {},
     "output_type": "execute_result"
    }
   ],
   "source": [
    "recall_1 = []\n",
    "for i, image in enumerate(encoded_images): \n",
    "    similarity = (100.0 * image @ text_features.T).softmax(dim=-1)\n",
    "    values, indices = similarity.topk(1)\n",
    "    im_ids = []\n",
    "    for indice in indices:\n",
    "        im_ids.append(caption_ids[indice])\n",
    "    recall_1.append(image_ids[i] in im_ids)\n",
    "    \n",
    "recall_1 = torch.Tensor(recall_1)\n",
    "\n",
    "recall_1.mean()"
   ]
  },
  {
   "cell_type": "code",
   "execution_count": 232,
   "metadata": {},
   "outputs": [
    {
     "data": {
      "text/plain": [
       "tensor(0.9360)"
      ]
     },
     "execution_count": 232,
     "metadata": {},
     "output_type": "execute_result"
    }
   ],
   "source": [
    "recall_5 = []\n",
    "for i, image in enumerate(encoded_images): \n",
    "    similarity = (100.0 * image @ text_features.T).softmax(dim=-1)\n",
    "    values, indices = similarity.topk(5)\n",
    "    im_ids = []\n",
    "    for indice in indices:\n",
    "        im_ids.append(caption_ids[indice])\n",
    "    recall_5.append(image_ids[i] in im_ids)\n",
    "    \n",
    "recall_5 = torch.Tensor(recall_5)\n",
    "\n",
    "recall_5.mean()"
   ]
  },
  {
   "cell_type": "code",
   "execution_count": 233,
   "metadata": {},
   "outputs": [
    {
     "data": {
      "text/plain": [
       "tensor(0.9750)"
      ]
     },
     "execution_count": 233,
     "metadata": {},
     "output_type": "execute_result"
    }
   ],
   "source": [
    "recall_10 = []\n",
    "for i, image in enumerate(encoded_images): \n",
    "    similarity = (100.0 * image @ text_features.T).softmax(dim=-1)\n",
    "    values, indices = similarity.topk(10)\n",
    "    im_ids = []\n",
    "    for indice in indices:\n",
    "        im_ids.append(caption_ids[indice])\n",
    "    recall_10.append(image_ids[i] in im_ids)\n",
    "    \n",
    "recall_10 = torch.Tensor(recall_10)\n",
    "\n",
    "recall_10.mean()"
   ]
  }
 ],
 "metadata": {
  "kernelspec": {
   "display_name": "Python 3 (ipykernel)",
   "language": "python",
   "name": "python3"
  },
  "language_info": {
   "codemirror_mode": {
    "name": "ipython",
    "version": 3
   },
   "file_extension": ".py",
   "mimetype": "text/x-python",
   "name": "python",
   "nbconvert_exporter": "python",
   "pygments_lexer": "ipython3",
   "version": "3.8.2"
  }
 },
 "nbformat": 4,
 "nbformat_minor": 4
}
