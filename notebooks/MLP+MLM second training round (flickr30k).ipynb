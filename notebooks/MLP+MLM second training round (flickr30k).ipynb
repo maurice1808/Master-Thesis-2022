{
 "cells": [
  {
   "cell_type": "code",
   "execution_count": 1,
   "metadata": {},
   "outputs": [],
   "source": [
    "#imports\n",
    "import torch\n",
    "from torch import nn\n",
    "from torch.utils.data import DataLoader\n",
    "\n",
    "import matplotlib.pyplot as plt\n",
    "import json\n",
    "import glob\n",
    "import time\n",
    "from PIL import Image"
   ]
  },
  {
   "cell_type": "code",
   "execution_count": 2,
   "metadata": {},
   "outputs": [
    {
     "name": "stderr",
     "output_type": "stream",
     "text": [
      "c:\\python\\lib\\site-packages\\transformers\\models\\clip\\processing_clip.py:142: FutureWarning: `feature_extractor` is deprecated and will be removed in v5. Use `image_processor` instead.\n",
      "  warnings.warn(\n"
     ]
    }
   ],
   "source": [
    "from transformers import CLIPProcessor, CLIPModel\n",
    "\n",
    "device = \"cuda:0\" if torch.cuda.is_available() else \"cpu\"\n",
    "model = CLIPModel.from_pretrained(\"openai/clip-vit-base-patch32\").to(device)\n",
    "processor = CLIPProcessor.from_pretrained(\"openai/clip-vit-base-patch32\")\n",
    "\n",
    "preprocess = processor.feature_extractor\n",
    "tokenizer = processor.tokenizer"
   ]
  },
  {
   "cell_type": "code",
   "execution_count": 2,
   "metadata": {},
   "outputs": [
    {
     "name": "stderr",
     "output_type": "stream",
     "text": [
      "`text_config_dict` is provided which will be used to initialize `CLIPTextConfig`. The value `text_config[\"id2label\"]` will be overriden.\n",
      "c:\\python\\lib\\site-packages\\transformers\\models\\clip\\processing_clip.py:142: FutureWarning: `feature_extractor` is deprecated and will be removed in v5. Use `image_processor` instead.\n",
      "  warnings.warn(\n"
     ]
    }
   ],
   "source": [
    "from transformers import CLIPProcessor, CLIPModel\n",
    "\n",
    "device = \"cuda:0\" if torch.cuda.is_available() else \"cpu\"\n",
    "model = CLIPModel.from_pretrained(\"openai/clip-vit-large-patch14\").to(device)\n",
    "processor = CLIPProcessor.from_pretrained(\"openai/clip-vit-large-patch14\")\n",
    "\n",
    "preprocess = processor.feature_extractor\n",
    "tokenizer = processor.tokenizer"
   ]
  },
  {
   "cell_type": "code",
   "execution_count": 3,
   "metadata": {},
   "outputs": [
    {
     "data": {
      "text/plain": [
       "<All keys matched successfully>"
      ]
     },
     "execution_count": 3,
     "metadata": {},
     "output_type": "execute_result"
    }
   ],
   "source": [
    "checkpoint = torch.load(\"Models/model_clip-vit-large-patch14/model.pt\", map_location='cpu')\n",
    "model.load_state_dict(checkpoint['model_state_dict'])"
   ]
  },
  {
   "cell_type": "code",
   "execution_count": 2,
   "metadata": {},
   "outputs": [
    {
     "name": "stderr",
     "output_type": "stream",
     "text": [
      "`text_config_dict` is provided which will be used to initialize `CLIPTextConfig`. The value `text_config[\"id2label\"]` will be overriden.\n",
      "c:\\python\\lib\\site-packages\\transformers\\models\\clip\\processing_clip.py:142: FutureWarning: `feature_extractor` is deprecated and will be removed in v5. Use `image_processor` instead.\n",
      "  warnings.warn(\n"
     ]
    }
   ],
   "source": [
    "from transformers import CLIPProcessor, CLIPModel\n",
    "\n",
    "device = \"cuda:0\" if torch.cuda.is_available() else \"cpu\"\n",
    "model = CLIPModel.from_pretrained(\"openai/clip-vit-large-patch14-336\").to(device)\n",
    "processor = CLIPProcessor.from_pretrained(\"openai/clip-vit-large-patch14-336\")\n",
    "\n",
    "preprocess = processor.feature_extractor\n",
    "tokenizer = processor.tokenizer"
   ]
  },
  {
   "cell_type": "code",
   "execution_count": 4,
   "metadata": {},
   "outputs": [],
   "source": [
    "class MLM(nn.Module):\n",
    "    def __init__(self, dense_size, vocab_size):\n",
    "        super().__init__()\n",
    "        self.linear = nn.Linear(dense_size, vocab_size)\n",
    "        \n",
    "    def forward(self, dense_vec):\n",
    "        term_importances = torch.log1p(torch.relu(self.linear(dense_vec)))\n",
    "        return term_importances"
   ]
  },
  {
   "cell_type": "code",
   "execution_count": 5,
   "metadata": {},
   "outputs": [],
   "source": [
    "def test_sparse_performance(text_model, image_model, test_ims, test_cap):\n",
    "    with torch.no_grad():\n",
    "        x, _ = test_ims.shape\n",
    "        encoded_ims = torch.empty(int(x), 49408)\n",
    "        for i in range(0, len(test_ims), 64):\n",
    "            encoded_ims[i:i+64] = image_model(test_ims[i:i+64])\n",
    "\n",
    "\n",
    "        encoded_caps = torch.empty(int(x*5), 49408)\n",
    "        for i in range(0, len(encoded_caps), 64):\n",
    "            encoded_caps[i:i+64] = text_model(test_cap[i:i+64])   \n",
    "\n",
    "        encoded_ims = (encoded_ims / encoded_ims.norm(dim=-1, keepdim=True)).to(device)\n",
    "        encoded_caps = encoded_caps / encoded_caps.norm(dim=-1, keepdim=True)\n",
    "\n",
    "        recall_1, recall_5, recall_10 = [],[],[]\n",
    "        i = 0\n",
    "        j = 0\n",
    "        image_id = 0\n",
    "        print(len(encoded_caps))\n",
    "        t = time.time()\n",
    "        for text_feature in encoded_caps:\n",
    "            if (j%500) == 0:\n",
    "                print(j, \", time since last: \", time.time() - t, end='\\r')\n",
    "                t = time.time()\n",
    "            similarity = (100.0 * text_feature.to(device) @ encoded_ims.T).softmax(dim=-1)\n",
    "            _, indices = similarity.topk(10)\n",
    "            \n",
    "            recall_1.append(image_id in indices[0])\n",
    "            recall_5.append(image_id in indices[:5])\n",
    "            recall_10.append(image_id in indices)\n",
    "\n",
    "            i += 1\n",
    "            j += 1\n",
    "            if i == 5:\n",
    "                i = 0\n",
    "                image_id += 1\n",
    "\n",
    "        print(\"\")\n",
    "        return torch.Tensor(recall_1).mean(), torch.Tensor(recall_5).mean(), torch.Tensor(recall_10).mean()       "
   ]
  },
  {
   "cell_type": "code",
   "execution_count": 6,
   "metadata": {},
   "outputs": [],
   "source": [
    "class TrainBatches():\n",
    "    def __init__(self, image_vectors, captions):\n",
    "\n",
    "        self.images = image_vectors\n",
    "        self.captions  = captions\n",
    "\n",
    "    def __len__(self):\n",
    "        return len(self.captions)\n",
    "\n",
    "    def __getitem__(self, idx):\n",
    "        image = self.images[idx]\n",
    "        caption = self.captions[idx]\n",
    "        return image,caption"
   ]
  },
  {
   "cell_type": "code",
   "execution_count": 7,
   "metadata": {},
   "outputs": [],
   "source": [
    "#open the json file for annotations\n",
    "f = open('datasets/flickr30k/dataset_flickr30k.json')\n",
    "data = json.load(f)\n",
    "\n",
    "# load all captions\n",
    "caps = [x['sentences'] for x in data['images'] if x.get('split') == 'train']\n",
    "test_caps = [x['sentences'] for x in data['images'] if x.get('split') == 'test']\n",
    "\n",
    "files = []\n",
    "test_files = []\n",
    "for x in data['images']:\n",
    "    if x.get('split') == 'train':\n",
    "        files.append('datasets/flickr30k/train/' + x['filename'])\n",
    "    \n",
    "    elif x.get('split') == 'test':\n",
    "        test_files.append('datasets/flickr30k/test/' + x['filename'])\n",
    "            \n",
    "captions = []\n",
    "for x in caps:\n",
    "    for y in x:\n",
    "        captions.append(y)\n",
    "        \n",
    "test_captions = []\n",
    "for x in test_caps:\n",
    "    for y in x:\n",
    "        test_captions.append(y)\n",
    "    \n",
    "captions = [x.get('raw') for x in captions]\n",
    "test_captions = [x.get('raw') for x in test_captions]\n",
    "\n",
    "# these captions are too long and need adjusting\n",
    "captions[13035] = 'Four young adults sit outside on a wooden deck near a building around a small round table, while another person stands on the edge of the deck, leaning on the wooden railing, with the sun shining on one of them, one holding a cellphone out in front of himself and another holding a green and red soda can.'\n",
    "captions[14580] = 'A man wearing a helmet, red pants with white and a white and red shirt is on a small bicycle using only his hands, while another man wearing a light blue shirt with dark blue trim and black pants with red stripes is standing nearby, gesturing toward the first man and holding a small figurine.'\n",
    "captions[120165] = 'In this photo there is a man in a dirty white shirt and a black hat with yellow stained teeth, he looks happy and it appears that he is also repairing something.'\n",
    "test_captions[3905] = 'Two boys are looking upwards with their arms streteched to the sky, the boy on the left is wearing a blue vest jacket with a gray shirt, black jogging pants and a hat, and the boy on the right is wearing a silver vest jacket, with blue long-sleeved undershirt, gray pants, black tennis shoes and has black short hair and glasses.'"
   ]
  },
  {
   "cell_type": "code",
   "execution_count": 7,
   "metadata": {},
   "outputs": [],
   "source": [
    "files = files[0:10]\n",
    "captions = captions[0:50]\n",
    "\n",
    "test_files = test_files[0:10]\n",
    "test_captions = test_captions[0:50]"
   ]
  },
  {
   "cell_type": "code",
   "execution_count": 7,
   "metadata": {},
   "outputs": [
    {
     "name": "stdout",
     "output_type": "stream",
     "text": [
      "28900 / 29000 / 29000 / 29000 / 29000 / 29000 / 29000 / 29000 / 29000 / 29000 / 29000 / 29000 / 29000 / 29000\n",
      "done\n",
      "293.0039150714874\n"
     ]
    }
   ],
   "source": [
    "# encode images\n",
    "L = len(files)\n",
    "batch_size = 64\n",
    "t1 = time.time()\n",
    "with torch.no_grad():\n",
    "    encoded_ims = torch.Tensor()\n",
    "    for i in range(0, L, batch_size):\n",
    "        print(i,\"/\",L, end='\\r')\n",
    "        images = torch.Tensor().to(device)\n",
    "        for x in range(batch_size):\n",
    "            if (i + x) < L:\n",
    "                image = preprocess(Image.open(files[i+x]), return_tensors='pt')['pixel_values'].to(device)\n",
    "                images = torch.cat((images, image), 0)\n",
    "                \n",
    "        ims = model.vision_model(images).pooler_output\n",
    "        ims = model.visual_projection(ims)\n",
    "        encoded_ims = torch.cat((encoded_ims, ims.to(\"cpu\")), 0)\n",
    "\n",
    "p = 0\n",
    "encoded_images = torch.Tensor().to(device)\n",
    "for image in encoded_ims:\n",
    "    if (p%100) == 0:\n",
    "        print(p,\"/\",L, end='\\r')\n",
    "        \n",
    "    encoded_images = torch.cat((encoded_images, image.to(device).repeat(5,1)), 0)\n",
    "    p += 1\n",
    "    \n",
    "print(\"\")\n",
    "print(\"done\")\n",
    "print(time.time() - t1)"
   ]
  },
  {
   "cell_type": "code",
   "execution_count": null,
   "metadata": {},
   "outputs": [],
   "source": [
    "# vitb32, vitL14@336, vitL14, large14-thong"
   ]
  },
  {
   "cell_type": "code",
   "execution_count": 8,
   "metadata": {},
   "outputs": [],
   "source": [
    "encoded_images = torch.load(\"pt datafiles/flickr/MLP/encoded_images_large14-thong.pt\")"
   ]
  },
  {
   "cell_type": "code",
   "execution_count": 9,
   "metadata": {},
   "outputs": [
    {
     "data": {
      "text/plain": [
       "torch.Size([145000, 768])"
      ]
     },
     "execution_count": 9,
     "metadata": {},
     "output_type": "execute_result"
    }
   ],
   "source": [
    "encoded_images.shape"
   ]
  },
  {
   "cell_type": "code",
   "execution_count": null,
   "metadata": {},
   "outputs": [],
   "source": [
    "torch.save(encoded_images, \"encoded_images_vitb32.pt\")"
   ]
  },
  {
   "cell_type": "code",
   "execution_count": 11,
   "metadata": {},
   "outputs": [
    {
     "name": "stdout",
     "output_type": "stream",
     "text": [
      "144896 / 145000145000 / 145000 / 145000145000 / 145000 / 145000 / 145000145000 / 145000 / 145000 / 145000 / 145000 / 145000 / 145000 / 145000 / 145000 / 145000 / 145000 / 145000 / 145000 / 145000 / 145000 / 145000 / 145000 / 145000 / 145000 / 145000 / 145000 / 145000 / 145000 / 145000 / 145000 / 145000 / 145000 / 145000 / 145000 / 145000 / 145000 / 145000 / 145000 / 145000 / 145000 / 145000 / 145000 / 145000 / 145000 / 145000 / 145000 / 145000 / 145000 / 145000 / 145000 / 145000 / 145000 / 145000 / 145000 / 145000 / 145000 / 145000 / 145000 / 145000 / 145000 / 145000 / 145000 / 145000 / 145000 / 145000 / 145000 / 145000 / 145000 / 145000 / 145000 / 145000 / 145000 / 145000 / 145000 / 145000 / 145000 / 145000 / 145000 / 145000 / 145000 / 145000 / 145000 / 145000 / 145000 / 145000 / 145000 / 145000 / 145000 / 145000 / 145000 / 145000 / 145000 / 145000 / 145000 / 145000 / 145000 / 145000 / 145000 / 145000145000 / 145000 / 145000 / 145000 / 145000 / 145000145000 / 145000 / 145000 / 145000 / 145000 / 145000 / 145000 / 145000 / 145000 / 145000 / 145000 / 145000 / 145000 / 145000 / 145000 / 145000 / 145000 / 145000 / 145000 / 145000 / 145000 / 145000 / 145000 / 145000 / 145000 / 145000 / 145000 / 145000145000 / 145000 / 145000 / 145000 / 145000 / 145000 / 145000 / 145000 / 145000 / 145000145000 / 145000 / 145000 / 145000 / 145000 / 145000 / 145000 / 145000 / 145000 / 145000 / 145000 / 145000 / 145000 / 145000 / 145000 / 145000 / 145000 / 145000 / 145000\n",
      "done\n",
      "282.8192572593689\n"
     ]
    }
   ],
   "source": [
    "# encode captions\n",
    "L = len(captions)\n",
    "batch_size = 128\n",
    "t1 = time.time()\n",
    "with torch.no_grad():\n",
    "    text_features = torch.Tensor().to(device)\n",
    "    for i in range(0, L, batch_size):\n",
    "        print(i,\"/\",L, end='\\r')\n",
    "        text = tokenizer(captions[i:i+batch_size], padding=True, return_tensors='pt').to(device)\n",
    "        \n",
    "        text_output = model.text_model(**text).pooler_output\n",
    "        text_output = model.text_projection(text_output)      \n",
    "        text_features = torch.cat((text_features, text_output), 0)\n",
    "        \n",
    "print(\"\")\n",
    "print(\"done\")\n",
    "print(time.time() - t1)"
   ]
  },
  {
   "cell_type": "code",
   "execution_count": 10,
   "metadata": {},
   "outputs": [],
   "source": [
    "text_features = torch.load(\"pt datafiles/flickr/MLP/encoded_captions_large14-thong.pt\")"
   ]
  },
  {
   "cell_type": "code",
   "execution_count": 11,
   "metadata": {},
   "outputs": [
    {
     "name": "stdout",
     "output_type": "stream",
     "text": [
      "2601608192\n"
     ]
    }
   ],
   "source": [
    "print(torch.cuda.memory_allocated())"
   ]
  },
  {
   "cell_type": "code",
   "execution_count": 13,
   "metadata": {},
   "outputs": [],
   "source": [
    "torch.save(text_features, \"encoded_captions_large14-thong.pt\")"
   ]
  },
  {
   "cell_type": "code",
   "execution_count": 14,
   "metadata": {},
   "outputs": [
    {
     "name": "stdout",
     "output_type": "stream",
     "text": [
      "992 / 1000 2621942784\n",
      "done\n",
      "53.622819900512695\n"
     ]
    }
   ],
   "source": [
    "# encode images\n",
    "L = len(test_files)\n",
    "batch_size = 32\n",
    "t1 = time.time()\n",
    "with torch.no_grad():\n",
    "    test_ims = torch.Tensor()\n",
    "    for i in range(0, L, batch_size):\n",
    "        print(i,\"/\",L, torch.cuda.memory_allocated(), end='\\r')\n",
    "        images = torch.Tensor().to(device)\n",
    "        for x in range(batch_size):\n",
    "            if (i + x) < L:\n",
    "                image = preprocess(Image.open(test_files[i+x]), return_tensors='pt')['pixel_values'].to(device)\n",
    "                images = torch.cat((images, image), 0)\n",
    "                \n",
    "        ims = model.vision_model(images).pooler_output\n",
    "        ims = model.visual_projection(ims)\n",
    "        test_ims = torch.cat((test_ims, ims.to(\"cpu\")), 0)\n",
    "\n",
    "test_images = test_ims.to(device)\n",
    "print(\"\")\n",
    "print(\"done\")\n",
    "print(time.time() - t1)"
   ]
  },
  {
   "cell_type": "code",
   "execution_count": 12,
   "metadata": {},
   "outputs": [],
   "source": [
    "test_images = torch.load(\"pt datafiles/flickr/MLP/test_images_large14-thong.pt\")"
   ]
  },
  {
   "cell_type": "code",
   "execution_count": 13,
   "metadata": {},
   "outputs": [
    {
     "name": "stdout",
     "output_type": "stream",
     "text": [
      "2604680192\n"
     ]
    }
   ],
   "source": [
    "print(torch.cuda.memory_allocated())"
   ]
  },
  {
   "cell_type": "code",
   "execution_count": 17,
   "metadata": {},
   "outputs": [],
   "source": [
    "torch.save(test_images, \"test_images_large14-thong.pt\")"
   ]
  },
  {
   "cell_type": "code",
   "execution_count": 18,
   "metadata": {},
   "outputs": [
    {
     "name": "stdout",
     "output_type": "stream",
     "text": [
      "4992 / 5000/ 5000 / 5000 / 5000 / 5000\n",
      "done\n"
     ]
    }
   ],
   "source": [
    "# encode test captions\n",
    "L = len(test_captions)\n",
    "batch_size = 128\n",
    "with torch.no_grad():\n",
    "    test_features = torch.Tensor().to(device)\n",
    "    for i in range(0, L, batch_size):\n",
    "        print(i,\"/\",L, end='\\r')\n",
    "        text = tokenizer(test_captions[i:i+batch_size], padding=True, return_tensors='pt').to(device)\n",
    "        \n",
    "        text_output = model.text_model(**text).pooler_output\n",
    "        text_output = model.text_projection(text_output)      \n",
    "        test_features = torch.cat((test_features, text_output), 0)\n",
    "        \n",
    "print(\"\")\n",
    "print(\"done\")"
   ]
  },
  {
   "cell_type": "code",
   "execution_count": 14,
   "metadata": {},
   "outputs": [],
   "source": [
    "test_features = torch.load(\"pt datafiles/flickr/MLP/test_captions_large14-thong.pt\")"
   ]
  },
  {
   "cell_type": "code",
   "execution_count": 19,
   "metadata": {},
   "outputs": [],
   "source": [
    "torch.save(test_features, \"test_captions_large14-thong.pt\")"
   ]
  },
  {
   "cell_type": "code",
   "execution_count": 54,
   "metadata": {},
   "outputs": [],
   "source": [
    "batchsize = 256\n",
    "\n",
    "dataset = TrainBatches(encoded_images, text_features)\n",
    "train_dataloader = DataLoader(dataset, batch_size = batchsize, shuffle=True)"
   ]
  },
  {
   "cell_type": "code",
   "execution_count": 59,
   "metadata": {},
   "outputs": [],
   "source": [
    "dense_text_size = model.text_projection.weight.shape[0]\n",
    "dense_image_size = model.visual_projection.weight.shape[0]\n",
    "vocab_size = model.text_model.config.vocab_size\n",
    "\n",
    "text_encoder = MLM(dense_text_size, vocab_size).to(device)\n",
    "image_encoder = MLM(dense_image_size, vocab_size).to(device)"
   ]
  },
  {
   "cell_type": "code",
   "execution_count": 19,
   "metadata": {},
   "outputs": [
    {
     "data": {
      "text/plain": [
       "<All keys matched successfully>"
      ]
     },
     "execution_count": 19,
     "metadata": {},
     "output_type": "execute_result"
    }
   ],
   "source": [
    "im_checkpoint = torch.load(\"Models/MLM8-336.pt\", map_location='cpu')\n",
    "\n",
    "image_encoder = MLM(dense_image_size, vocab_size).to(device)\n",
    "image_encoder.load_state_dict(im_checkpoint['model_state_dict'])"
   ]
  },
  {
   "cell_type": "code",
   "execution_count": 60,
   "metadata": {},
   "outputs": [
    {
     "data": {
      "text/plain": [
       "<All keys matched successfully>"
      ]
     },
     "execution_count": 60,
     "metadata": {},
     "output_type": "execute_result"
    }
   ],
   "source": [
    "im_checkpoint = torch.load(\"Models/model_clip-vit-large-patch14/image_encoder.pt\", map_location='cpu')\n",
    "\n",
    "image_encoder = MLM(dense_image_size, vocab_size).to(device)\n",
    "image_encoder.load_state_dict(im_checkpoint['model_state_dict'])"
   ]
  },
  {
   "cell_type": "code",
   "execution_count": 61,
   "metadata": {},
   "outputs": [
    {
     "name": "stdout",
     "output_type": "stream",
     "text": [
      "5000\n",
      "4500 , time since last:  0.48864364624023443\n",
      "tensor(0.0024)\n",
      "tensor(0.0042)\n",
      "tensor(0.0096)\n"
     ]
    }
   ],
   "source": [
    "#before training\n",
    "rec1,rec5,rec10 = test_sparse_performance(text_encoder, image_encoder, test_images, test_features)\n",
    "\n",
    "print(rec1)\n",
    "print(rec5)\n",
    "print(rec10)"
   ]
  },
  {
   "cell_type": "code",
   "execution_count": 62,
   "metadata": {},
   "outputs": [
    {
     "name": "stdout",
     "output_type": "stream",
     "text": [
      "epoch: 0 batch: 550 / 566\n",
      "loss: 555.7643805444241\n",
      "testing recall scores..\n",
      "5000\n",
      "4500 , time since last:  0.48485398292541504\n",
      "R@1: tensor(0.6862)\n",
      "epoch done\n",
      "\n",
      "epoch: 1 batch: 250 / 566\r"
     ]
    },
    {
     "ename": "KeyboardInterrupt",
     "evalue": "",
     "output_type": "error",
     "traceback": [
      "\u001b[1;31m---------------------------------------------------------------------------\u001b[0m",
      "\u001b[1;31mKeyboardInterrupt\u001b[0m                         Traceback (most recent call last)",
      "\u001b[1;32mC:\\Users\\LALASH~1\\AppData\\Local\\Temp/ipykernel_13000/834697901.py\u001b[0m in \u001b[0;36m<module>\u001b[1;34m\u001b[0m\n\u001b[0;32m     37\u001b[0m         \u001b[0mloss\u001b[0m \u001b[1;33m=\u001b[0m \u001b[1;33m(\u001b[0m\u001b[0mloss_img\u001b[0m\u001b[1;33m(\u001b[0m\u001b[0mlogits_per_image\u001b[0m\u001b[1;33m,\u001b[0m\u001b[0mground_truth\u001b[0m\u001b[1;33m)\u001b[0m \u001b[1;33m+\u001b[0m \u001b[0mloss_txt\u001b[0m\u001b[1;33m(\u001b[0m\u001b[0mlogits_per_text\u001b[0m\u001b[1;33m,\u001b[0m\u001b[0mground_truth\u001b[0m\u001b[1;33m)\u001b[0m\u001b[1;33m)\u001b[0m\u001b[1;33m/\u001b[0m\u001b[1;36m2\u001b[0m\u001b[1;33m\u001b[0m\u001b[1;33m\u001b[0m\u001b[0m\n\u001b[0;32m     38\u001b[0m \u001b[1;33m\u001b[0m\u001b[0m\n\u001b[1;32m---> 39\u001b[1;33m         \u001b[0mbatch_loss\u001b[0m \u001b[1;33m+=\u001b[0m \u001b[0mloss\u001b[0m\u001b[1;33m.\u001b[0m\u001b[0mitem\u001b[0m\u001b[1;33m(\u001b[0m\u001b[1;33m)\u001b[0m\u001b[1;33m\u001b[0m\u001b[1;33m\u001b[0m\u001b[0m\n\u001b[0m\u001b[0;32m     40\u001b[0m         \u001b[0mloss\u001b[0m\u001b[1;33m.\u001b[0m\u001b[0mbackward\u001b[0m\u001b[1;33m(\u001b[0m\u001b[1;33m)\u001b[0m\u001b[1;33m\u001b[0m\u001b[1;33m\u001b[0m\u001b[0m\n\u001b[0;32m     41\u001b[0m \u001b[1;33m\u001b[0m\u001b[0m\n",
      "\u001b[1;31mKeyboardInterrupt\u001b[0m: "
     ]
    }
   ],
   "source": [
    "loss_img = torch.nn.CrossEntropyLoss()\n",
    "loss_txt = torch.nn.CrossEntropyLoss()\n",
    "optimizer = torch.optim.Adam(text_encoder.parameters(), lr=1e-4,betas=(0.9,0.98),eps=1e-6,weight_decay=0.001)\n",
    "scheduler = torch.optim.lr_scheduler.MultiStepLR(optimizer, milestones=[5,10], gamma=0.1)\n",
    "\n",
    "vocab_size = model.text_model.config.vocab_size\n",
    "epochs = 15\n",
    "totalbatches = int(len(dataset) / batchsize)\n",
    "logit_scale = model.logit_scale.exp().item()\n",
    "losses=[]\n",
    "test_loss=[[rec1],[rec5],[rec10]]\n",
    "for epoch in range(0, epochs):\n",
    "    i = 0\n",
    "    batch_loss = 0\n",
    "    for batch in train_dataloader:\n",
    "        if i % 25 == 0:\n",
    "            print(\"epoch:\", epoch, \"batch:\", i, \"/\", totalbatches, end='\\r')\n",
    "       \n",
    "        optimizer.zero_grad()\n",
    "        dense_images, dense_caps = batch\n",
    "        \n",
    "        # sparse encoding\n",
    "        with torch.no_grad():\n",
    "            sparse_ims = image_encoder(dense_images)\n",
    "            \n",
    "        sparse_caps = text_encoder(dense_caps)\n",
    "\n",
    "        # determine logits\n",
    "        sparse_ims = sparse_ims / sparse_ims.norm(dim=-1, keepdim=True)\n",
    "        sparse_caps = sparse_caps / (sparse_caps + 1e-20).norm(dim=-1, keepdim=True)\n",
    "        logits_per_image = logit_scale * sparse_ims @ sparse_caps.t()\n",
    "        logits_per_text = logits_per_image.t()\n",
    "        \n",
    "        # compute losses\n",
    "        ground_truth = torch.arange(len(dense_images),dtype=torch.long,device=device)\n",
    "        \n",
    "        loss = (loss_img(logits_per_image,ground_truth) + loss_txt(logits_per_text,ground_truth))/2\n",
    "            \n",
    "        batch_loss += loss.item()\n",
    "        loss.backward()\n",
    "        \n",
    "        optimizer.step()\n",
    "        i+=1\n",
    "        \n",
    "    scheduler.step()\n",
    "    losses.append(batch_loss)\n",
    "    print(\"\")\n",
    "    print(\"loss:\", batch_loss)\n",
    "    \n",
    "    print(\"testing recall scores..\")\n",
    "    recall1,recall5,recall10 = test_sparse_performance(text_encoder, image_encoder, test_images, test_features)\n",
    "    test_loss[0].append(recall1)\n",
    "    test_loss[1].append(recall5)\n",
    "    test_loss[2].append(recall10)\n",
    "    print(\"R@1:\", recall1)\n",
    "    print(\"epoch done\")\n",
    "    print(\"\")\n",
    "\"\"\"\n",
    "    torch.save({\n",
    "        'epoch':epoch,\n",
    "        'model_state_dict': sparse_mlm.state_dict(),\n",
    "        'optimizer_state_dict': optimizer.state_dict(),\n",
    "        'loss': total_loss,\n",
    "        }, f\"Models/\" + str(epoch) + \".pt\")\n",
    "\"\"\"      \n",
    "print(\"\")\n",
    "print(\"done\")\n",
    "\n",
    "plt.plot(losses)\n",
    "plt.title('CLIP loss')\n",
    "plt.show()"
   ]
  },
  {
   "cell_type": "code",
   "execution_count": 53,
   "metadata": {},
   "outputs": [
    {
     "data": {
      "text/plain": [
       "[[tensor(0.0008),\n",
       "  tensor(0.6878),\n",
       "  tensor(0.7210),\n",
       "  tensor(0.7274),\n",
       "  tensor(0.7376),\n",
       "  tensor(0.7410),\n",
       "  tensor(0.7524),\n",
       "  tensor(0.7524),\n",
       "  tensor(0.7546),\n",
       "  tensor(0.7584),\n",
       "  tensor(0.7582),\n",
       "  tensor(0.7594),\n",
       "  tensor(0.7598),\n",
       "  tensor(0.7592),\n",
       "  tensor(0.7596),\n",
       "  tensor(0.7594)],\n",
       " [tensor(0.0034),\n",
       "  tensor(0.9198),\n",
       "  tensor(0.9302),\n",
       "  tensor(0.9360),\n",
       "  tensor(0.9366),\n",
       "  tensor(0.9372),\n",
       "  tensor(0.9398),\n",
       "  tensor(0.9414),\n",
       "  tensor(0.9422),\n",
       "  tensor(0.9422),\n",
       "  tensor(0.9428),\n",
       "  tensor(0.9434),\n",
       "  tensor(0.9436),\n",
       "  tensor(0.9426),\n",
       "  tensor(0.9434),\n",
       "  tensor(0.9434)],\n",
       " [tensor(0.0078),\n",
       "  tensor(0.9596),\n",
       "  tensor(0.9662),\n",
       "  tensor(0.9680),\n",
       "  tensor(0.9692),\n",
       "  tensor(0.9716),\n",
       "  tensor(0.9714),\n",
       "  tensor(0.9722),\n",
       "  tensor(0.9722),\n",
       "  tensor(0.9722),\n",
       "  tensor(0.9714),\n",
       "  tensor(0.9714),\n",
       "  tensor(0.9712),\n",
       "  tensor(0.9714),\n",
       "  tensor(0.9712),\n",
       "  tensor(0.9716)]]"
      ]
     },
     "execution_count": 53,
     "metadata": {},
     "output_type": "execute_result"
    }
   ],
   "source": [
    "test_loss"
   ]
  },
  {
   "cell_type": "code",
   "execution_count": 26,
   "metadata": {},
   "outputs": [
    {
     "name": "stdout",
     "output_type": "stream",
     "text": [
      "10000\n",
      "20000\n",
      "30000\n",
      "40000\n",
      "50000\n",
      "60000\n",
      "70000\n",
      "80000\n",
      "90000\n",
      "100000\n",
      "110000\n",
      "120000\n",
      "130000\n",
      "140000\n",
      "tensor(0.9906, device='cuda:0')\n"
     ]
    }
   ],
   "source": [
    "with torch.no_grad():\n",
    "    total_nonzero = 0\n",
    "    i = 0\n",
    "    for feature in text_features:\n",
    "        sparse = text_encoder(feature)\n",
    "        total_nonzero += (len(sparse) - torch.count_nonzero(sparse))/len(sparse)\n",
    "        i += 1\n",
    "        if (i%10000) == 0:\n",
    "            print(i)\n",
    "        \n",
    "    print(total_nonzero/i)"
   ]
  },
  {
   "cell_type": "code",
   "execution_count": 52,
   "metadata": {},
   "outputs": [
    {
     "data": {
      "image/png": "[encoded data removed]",
      "text/plain": [
       "<Figure size 432x288 with 1 Axes>"
      ]
     },
     "metadata": {
      "needs_background": "light"
     },
     "output_type": "display_data"
    }
   ],
   "source": [
    "plt.plot(test_loss[0][1:])\n",
    "plt.title('CLIP loss')\n",
    "plt.show()"
   ]
  },
  {
   "cell_type": "code",
   "execution_count": 21,
   "metadata": {},
   "outputs": [],
   "source": [
    "#open the json file for annotations\n",
    "f = open(\"C:/Users/Lalashops/Desktop/MasterThesis/random images/vocab.json\", encoding = 'utf-8')\n",
    "vocab = json.load(f)"
   ]
  },
  {
   "cell_type": "code",
   "execution_count": 26,
   "metadata": {},
   "outputs": [],
   "source": [
    "sparse_encoding = text_encoder(test_features[0])"
   ]
  },
  {
   "cell_type": "code",
   "execution_count": 28,
   "metadata": {},
   "outputs": [
    {
     "data": {
      "text/plain": [
       "'The man with pierced ears is wearing glasses and an orange hat.'"
      ]
     },
     "execution_count": 28,
     "metadata": {},
     "output_type": "execute_result"
    }
   ],
   "source": [
    "test_captions[0]"
   ]
  },
  {
   "cell_type": "code",
   "execution_count": 27,
   "metadata": {},
   "outputs": [
    {
     "name": "stdout",
     "output_type": "stream",
     "text": [
      "hat</w>\n",
      "cap</w>\n",
      "glasses</w>\n",
      "man</w>\n",
      "anchor</w>\n",
      "orange</w>\n",
      "chopped</w>\n",
      "<|startoftext|>\n",
      "scarf</w>\n",
      "inste\n"
     ]
    }
   ],
   "source": [
    "# after training\n",
    "for idx in torch.topk(sparse_encoding, 10).indices:\n",
    "    print(list(vocab.keys())[list(vocab.values()).index(idx)])"
   ]
  },
  {
   "cell_type": "code",
   "execution_count": 38,
   "metadata": {},
   "outputs": [],
   "source": [
    "sparse_encoding = text_encoder(test_features[5])"
   ]
  },
  {
   "cell_type": "code",
   "execution_count": 39,
   "metadata": {},
   "outputs": [
    {
     "data": {
      "text/plain": [
       "'A black and white dog is running in a grassy garden surrounded by a white fence.'"
      ]
     },
     "execution_count": 39,
     "metadata": {},
     "output_type": "execute_result"
    }
   ],
   "source": [
    "test_captions[5]"
   ]
  },
  {
   "cell_type": "code",
   "execution_count": 46,
   "metadata": {},
   "outputs": [
    {
     "name": "stdout",
     "output_type": "stream",
     "text": [
      "caption:\n"
     ]
    }
   ],
   "source": [
    "print(\"caption:\")"
   ]
  },
  {
   "cell_type": "code",
   "execution_count": 45,
   "metadata": {},
   "outputs": [
    {
     "name": "stdout",
     "output_type": "stream",
     "text": [
      "Top 10 output terms:\n"
     ]
    }
   ],
   "source": [
    "print(\"Top 10 output terms:\")"
   ]
  },
  {
   "cell_type": "code",
   "execution_count": 43,
   "metadata": {},
   "outputs": [
    {
     "name": "stdout",
     "output_type": "stream",
     "text": [
      "1. fence</w>\n",
      "2. wristband</w>\n",
      "3. dog</w>\n",
      "4. white</w>\n",
      "5. black</w>\n",
      "6. process</w>\n",
      "7. runs</w>\n",
      "8. flower</w>\n",
      "9. lawn</w>\n",
      "10. outdoor</w>\n"
     ]
    }
   ],
   "source": [
    "# after training\n",
    "i = 1\n",
    "for idx in torch.topk(sparse_encoding, 10).indices:\n",
    "    print(str(i) + \". \" +list(vocab.keys())[list(vocab.values()).index(idx)])\n",
    "    i+=1"
   ]
  },
  {
   "cell_type": "code",
   "execution_count": 57,
   "metadata": {},
   "outputs": [
    {
     "data": {
      "text/plain": [
       "[tensor(0.0004),\n",
       " tensor(0.6940),\n",
       " tensor(0.7278),\n",
       " tensor(0.7406),\n",
       " tensor(0.7426),\n",
       " tensor(0.7472),\n",
       " tensor(0.7556),\n",
       " tensor(0.7588),\n",
       " tensor(0.7598),\n",
       " tensor(0.7612),\n",
       " tensor(0.7588),\n",
       " tensor(0.7584),\n",
       " tensor(0.7588),\n",
       " tensor(0.7586),\n",
       " tensor(0.7590),\n",
       " tensor(0.7586)]"
      ]
     },
     "execution_count": 57,
     "metadata": {},
     "output_type": "execute_result"
    }
   ],
   "source": [
    "#batch-size 64\n",
    "test_loss[0]"
   ]
  },
  {
   "cell_type": "code",
   "execution_count": 76,
   "metadata": {},
   "outputs": [],
   "source": [
    "torch.save({\n",
    "    'epoch':epoch,\n",
    "    'model_state_dict': text_encoder.state_dict(),\n",
    "    'optimizer_state_dict': optimizer.state_dict(),\n",
    "    'loss': batch_loss,\n",
    "    }, f\"Models/\" + str(epoch) + \".pt\")"
   ]
  },
  {
   "cell_type": "code",
   "execution_count": 25,
   "metadata": {},
   "outputs": [],
   "source": [
    "sparse_encoding = text_encoder(test_features[0])"
   ]
  },
  {
   "cell_type": "code",
   "execution_count": 24,
   "metadata": {},
   "outputs": [
    {
     "data": {
      "text/plain": [
       "'The man with pierced ears is wearing glasses and an orange hat.'"
      ]
     },
     "execution_count": 24,
     "metadata": {},
     "output_type": "execute_result"
    }
   ],
   "source": [
    "test_captions[0]"
   ]
  },
  {
   "cell_type": "code",
   "execution_count": 27,
   "metadata": {},
   "outputs": [
    {
     "name": "stdout",
     "output_type": "stream",
     "text": [
      "<|startoftext|> tensor(2.3467, device='cuda:0', grad_fn=<SelectBackward0>)\n",
      ".</w> tensor(1.8225, device='cuda:0', grad_fn=<SelectBackward0>)\n",
      "orange</w> tensor(1.1488, device='cuda:0', grad_fn=<SelectBackward0>)\n",
      "man</w> tensor(1.1208, device='cuda:0', grad_fn=<SelectBackward0>)\n",
      "hat</w> tensor(1.0373, device='cuda:0', grad_fn=<SelectBackward0>)\n",
      "cap</w> tensor(0.8494, device='cuda:0', grad_fn=<SelectBackward0>)\n",
      "quarterback</w> tensor(0.8475, device='cuda:0', grad_fn=<SelectBackward0>)\n",
      "jersey</w> tensor(0.7866, device='cuda:0', grad_fn=<SelectBackward0>)\n",
      "hats</w> tensor(0.7030, device='cuda:0', grad_fn=<SelectBackward0>)\n",
      "red</w> tensor(0.7007, device='cuda:0', grad_fn=<SelectBackward0>)\n",
      "sunglasses</w> tensor(0.6857, device='cuda:0', grad_fn=<SelectBackward0>)\n"
     ]
    }
   ],
   "source": [
    "# batch size 64 - thong pretrained models\n",
    "for idx in torch.topk(sparse_encoding, 11).indices:\n",
    "    print(list(vocab.keys())[list(vocab.values()).index(idx)], sparse_encoding[idx])"
   ]
  },
  {
   "cell_type": "code",
   "execution_count": 40,
   "metadata": {},
   "outputs": [
    {
     "name": "stdout",
     "output_type": "stream",
     "text": [
      "orange</w> tensor(0.5841, device='cuda:0', grad_fn=<SelectBackward0>)\n",
      "hat</w> tensor(0.4481, device='cuda:0', grad_fn=<SelectBackward0>)\n",
      "glasses</w> tensor(0.4318, device='cuda:0', grad_fn=<SelectBackward0>)\n",
      "i</w> tensor(0.3357, device='cuda:0', grad_fn=<SelectBackward0>)\n",
      "cap</w> tensor(0.3126, device='cuda:0', grad_fn=<SelectBackward0>)\n",
      "tattoos</w> tensor(0.2803, device='cuda:0', grad_fn=<SelectBackward0>)\n",
      "books</w> tensor(0.2756, device='cuda:0', grad_fn=<SelectBackward0>)\n",
      "shaped</w> tensor(0.2750, device='cuda:0', grad_fn=<SelectBackward0>)\n",
      "red</w> tensor(0.2650, device='cuda:0', grad_fn=<SelectBackward0>)\n",
      "headband</w> tensor(0.2535, device='cuda:0', grad_fn=<SelectBackward0>)\n",
      "made</w> tensor(0.2519, device='cuda:0', grad_fn=<SelectBackward0>)\n"
     ]
    }
   ],
   "source": [
    "\n",
    "for idx in torch.topk(sparse_encoding, 11).indices:\n",
    "    print(list(vocab.keys())[list(vocab.values()).index(idx)], sparse_encoding[idx])"
   ]
  },
  {
   "cell_type": "code",
   "execution_count": 20,
   "metadata": {},
   "outputs": [
    {
     "name": "stdout",
     "output_type": "stream",
     "text": [
      "<|startoftext|> tensor(0.5583, device='cuda:0', grad_fn=<SelectBackward0>)\n",
      "orange</w> tensor(0.5373, device='cuda:0', grad_fn=<SelectBackward0>)\n",
      "glasses</w> tensor(0.4128, device='cuda:0', grad_fn=<SelectBackward0>)\n",
      "hat</w> tensor(0.3734, device='cuda:0', grad_fn=<SelectBackward0>)\n",
      "man</w> tensor(0.2442, device='cuda:0', grad_fn=<SelectBackward0>)\n",
      "tattoos</w> tensor(0.2316, device='cuda:0', grad_fn=<SelectBackward0>)\n",
      "s tensor(0.2261, device='cuda:0', grad_fn=<SelectBackward0>)\n",
      "tattoo</w> tensor(0.2177, device='cuda:0', grad_fn=<SelectBackward0>)\n",
      "hoodie</w> tensor(0.2038, device='cuda:0', grad_fn=<SelectBackward0>)\n",
      "shaped</w> tensor(0.2003, device='cuda:0', grad_fn=<SelectBackward0>)\n",
      "customers</w> tensor(0.1983, device='cuda:0', grad_fn=<SelectBackward0>)\n"
     ]
    }
   ],
   "source": [
    "for idx in torch.topk(sparse_encoding, 11).indices:\n",
    "    print(list(vocab.keys())[list(vocab.values()).index(idx)], sparse_encoding[idx])"
   ]
  },
  {
   "cell_type": "code",
   "execution_count": 38,
   "metadata": {},
   "outputs": [
    {
     "name": "stdout",
     "output_type": "stream",
     "text": [
      "cap</w> tensor(0.4192, device='cuda:0', grad_fn=<SelectBackward0>)\n",
      "man</w> tensor(0.3873, device='cuda:0', grad_fn=<SelectBackward0>)\n",
      "orange</w> tensor(0.3632, device='cuda:0', grad_fn=<SelectBackward0>)\n",
      "closely</w> tensor(0.3370, device='cuda:0', grad_fn=<SelectBackward0>)\n",
      "praying</w> tensor(0.3344, device='cuda:0', grad_fn=<SelectBackward0>)\n",
      "bush</w> tensor(0.3284, device='cuda:0', grad_fn=<SelectBackward0>)\n",
      "0</w> tensor(0.3167, device='cuda:0', grad_fn=<SelectBackward0>)\n",
      "beret</w> tensor(0.2977, device='cuda:0', grad_fn=<SelectBackward0>)\n",
      "themselves</w> tensor(0.2914, device='cuda:0', grad_fn=<SelectBackward0>)\n",
      "beanie</w> tensor(0.2838, device='cuda:0', grad_fn=<SelectBackward0>)\n",
      "marketplace</w> tensor(0.2830, device='cuda:0', grad_fn=<SelectBackward0>)\n",
      "cause</w> tensor(0.2813, device='cuda:0', grad_fn=<SelectBackward0>)\n",
      "horn</w> tensor(0.2793, device='cuda:0', grad_fn=<SelectBackward0>)\n",
      "stares</w> tensor(0.2779, device='cuda:0', grad_fn=<SelectBackward0>)\n",
      "scene</w> tensor(0.2775, device='cuda:0', grad_fn=<SelectBackward0>)\n",
      "distance</w> tensor(0.2648, device='cuda:0', grad_fn=<SelectBackward0>)\n",
      "glasses</w> tensor(0.2624, device='cuda:0', grad_fn=<SelectBackward0>)\n",
      "hat</w> tensor(0.2623, device='cuda:0', grad_fn=<SelectBackward0>)\n",
      "goggles</w> tensor(0.2612, device='cuda:0', grad_fn=<SelectBackward0>)\n",
      "eyes</w> tensor(0.2581, device='cuda:0', grad_fn=<SelectBackward0>)\n"
     ]
    }
   ],
   "source": [
    "# old\n",
    "for idx in torch.topk(sparse_encoding, 20).indices:\n",
    "    print(list(vocab.keys())[list(vocab.values()).index(idx)], sparse_encoding[idx])"
   ]
  },
  {
   "cell_type": "code",
   "execution_count": 27,
   "metadata": {},
   "outputs": [
    {
     "data": {
      "image/png": "[encoded data removed]",
      "text/plain": [
       "<Figure size 432x288 with 1 Axes>"
      ]
     },
     "metadata": {
      "needs_background": "light"
     },
     "output_type": "display_data"
    },
    {
     "name": "stdout",
     "output_type": "stream",
     "text": [
      "tensor(83.3571, device='cuda:0', grad_fn=<NormBackward1>)\n"
     ]
    }
   ],
   "source": [
    "plt.hist(sparse_encoding.cpu().detach().numpy(), bins=30)\n",
    "plt.show()\n",
    "\n",
    "l1_regularization = torch.norm(sparse_encoding, 1)\n",
    "print(l1_regularization)"
   ]
  },
  {
   "cell_type": "code",
   "execution_count": 28,
   "metadata": {},
   "outputs": [
    {
     "data": {
      "text/plain": [
       "(tensor([0.0000e+00, 3.5032e-44, 3.7835e-44,  ..., 3.6315e-01, 3.8732e-01,\n",
       "         4.1922e-01], device='cuda:0', grad_fn=<Unique2Backward0>),\n",
       " tensor([47637,     1,     1,  ...,     1,     1,     1], device='cuda:0'))"
      ]
     },
     "execution_count": 28,
     "metadata": {},
     "output_type": "execute_result"
    }
   ],
   "source": [
    "sparse_encoding.unique(return_counts=True)"
   ]
  },
  {
   "cell_type": "code",
   "execution_count": 33,
   "metadata": {},
   "outputs": [
    {
     "data": {
      "text/plain": [
       "(tensor([False,  True], device='cuda:0'),\n",
       " tensor([49120,   288], device='cuda:0'))"
      ]
     },
     "execution_count": 33,
     "metadata": {},
     "output_type": "execute_result"
    }
   ],
   "source": [
    "(sparse_encoding > 0.1).unique(return_counts=True)"
   ]
  },
  {
   "cell_type": "code",
   "execution_count": 44,
   "metadata": {},
   "outputs": [
    {
     "data": {
      "text/plain": [
       "'datasets/flickr30k/test/1007129816.jpg'"
      ]
     },
     "execution_count": 44,
     "metadata": {},
     "output_type": "execute_result"
    }
   ],
   "source": [
    "test_files[0]"
   ]
  }
 ],
 "metadata": {
  "kernelspec": {
   "display_name": "Python 3 (ipykernel)",
   "language": "python",
   "name": "python3"
  },
  "language_info": {
   "codemirror_mode": {
    "name": "ipython",
    "version": 3
   },
   "file_extension": ".py",
   "mimetype": "text/x-python",
   "name": "python",
   "nbconvert_exporter": "python",
   "pygments_lexer": "ipython3",
   "version": "3.8.2"
  }
 },
 "nbformat": 4,
 "nbformat_minor": 4
}
