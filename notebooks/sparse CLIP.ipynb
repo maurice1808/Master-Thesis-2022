{
 "cells": [
  {
   "cell_type": "code",
   "execution_count": 1,
   "metadata": {},
   "outputs": [],
   "source": [
    "#imports\n",
    "import torch\n",
    "from torch import nn\n",
    "from torch.utils.data import DataLoader\n",
    "\n",
    "import time\n",
    "import clip\n",
    "import matplotlib.pyplot as plt\n",
    "import json\n",
    "import glob\n",
    "\n",
    "from PIL import Image"
   ]
  },
  {
   "cell_type": "code",
   "execution_count": 2,
   "metadata": {},
   "outputs": [],
   "source": [
    "class SparseEncoder(nn.Module):\n",
    "    def __init__(self, embed_dim, vocab_size, token_embedding):\n",
    "        super().__init__()\n",
    "        self.sparse_projection = nn.Linear(embed_dim, vocab_size)\n",
    "        self.sparse_projection.weight = nn.Parameter(token_embedding.weight)\n",
    "    \n",
    "    def forward(self, dense_vec):\n",
    "        logits = self.sparse_projection(dense_vec)\n",
    "        lex_weights = torch.log1p(torch.relu(logits))\n",
    "        return lex_weights"
   ]
  },
  {
   "cell_type": "code",
   "execution_count": 3,
   "metadata": {},
   "outputs": [],
   "source": [
    "class encoded_vectors():\n",
    "    def __init__(self, image_vectors, caption_vectors):\n",
    "\n",
    "        self.images = image_vectors\n",
    "        self.captions  = caption_vectors\n",
    "\n",
    "    def __len__(self):\n",
    "        return len(self.captions)\n",
    "\n",
    "    def __getitem__(self, idx):\n",
    "        image = self.images[idx]\n",
    "        caption = self.captions[idx]\n",
    "        return image,caption"
   ]
  },
  {
   "cell_type": "code",
   "execution_count": 4,
   "metadata": {},
   "outputs": [],
   "source": [
    "def test_sparse_performance(model, test_ims, test_cap):\n",
    "    with torch.no_grad():\n",
    "        x, _ = test_ims.shape\n",
    "        test_ims = test_ims[0::5]\n",
    "        encoded_ims = torch.empty(int(x/5), 49408).to(device)\n",
    "        for i in range(0, len(encoded_ims), 64):\n",
    "            encoded_ims[i:i+64] = model(test_ims[i:i+64])\n",
    "\n",
    "        encoded_caps = torch.empty(int(x), 49408).to(device)\n",
    "        for i in range(0, len(encoded_caps), 64):\n",
    "            encoded_caps[i:i+64] = model(test_cap[i:i+64])   \n",
    " \n",
    "        encoded_ims = (encoded_ims / encoded_ims.norm(dim=-1, keepdim=True)).to(\"cpu\")\n",
    "        encoded_caps = (encoded_caps / encoded_caps.norm(dim=-1, keepdim=True)).to(\"cpu\")\n",
    "        \n",
    "        recall_1, recall_5, recall_10 = [],[],[]\n",
    "        i = 0\n",
    "        j = 0\n",
    "        image_id = 0\n",
    "        print(len(encoded_caps))\n",
    "        t = time.time()\n",
    "        for text_feature in encoded_caps:\n",
    "            if (j%100) == 0:\n",
    "                print(j, \", time since last: \", time.time() - t, end='\\r')\n",
    "                t = time.time()\n",
    "            similarity = (100.0 * text_feature @ encoded_ims.T).softmax(dim=-1)\n",
    "            _, indices = similarity.topk(10)\n",
    "\n",
    "            recall_1.append(image_id in indices[0])\n",
    "            recall_5.append(image_id in indices[:5])\n",
    "            recall_10.append(image_id in indices)\n",
    "    \n",
    "            i += 1\n",
    "            j += 1\n",
    "            if i == 5:\n",
    "                i = 0\n",
    "                image_id += 1\n",
    "\n",
    "        return torch.Tensor(recall_1).mean(), torch.Tensor(recall_5).mean(), torch.Tensor(recall_10).mean()                                           "
   ]
  },
  {
   "cell_type": "code",
   "execution_count": 5,
   "metadata": {},
   "outputs": [],
   "source": [
    "def test_sparse_performance(model, test_ims, test_cap):\n",
    "    with torch.no_grad():\n",
    "        x, _ = test_ims.shape\n",
    "        encoded_ims = torch.empty(int(x), 49408).to(device)\n",
    "        for i in range(0, len(encoded_ims), 64):\n",
    "            encoded_ims[i:i+64] = model(test_ims[i:i+64])\n",
    "\n",
    "        encoded_caps = torch.empty(int(x*5), 49408).to(device)\n",
    "        for i in range(0, len(encoded_caps), 64):\n",
    "            encoded_caps[i:i+64] = model(test_cap[i:i+64])   \n",
    " \n",
    "        encoded_ims = encoded_ims / encoded_ims.norm(dim=-1, keepdim=True)\n",
    "        encoded_caps = encoded_caps / encoded_caps.norm(dim=-1, keepdim=True)\n",
    "        \n",
    "        recall_1, recall_5, recall_10 = [],[],[]\n",
    "        i = 0\n",
    "        j = 0\n",
    "        image_id = 0\n",
    "        print(len(encoded_caps))\n",
    "        t = time.time()\n",
    "        for text_feature in encoded_caps:\n",
    "            if (j%1000) == 0:\n",
    "                print(j, \", time since last: \", time.time() - t, end='\\r')\n",
    "                t = time.time()\n",
    "            similarity = (100.0 * text_feature @ encoded_ims.T).softmax(dim=-1)\n",
    "            _, indices = similarity.topk(10)\n",
    "\n",
    "            recall_1.append(image_id in indices[0])\n",
    "            recall_5.append(image_id in indices[:5])\n",
    "            recall_10.append(image_id in indices)\n",
    "    \n",
    "            i += 1\n",
    "            j += 1\n",
    "            if i == 5:\n",
    "                i = 0\n",
    "                image_id += 1\n",
    "\n",
    "        return torch.Tensor(recall_1).mean(), torch.Tensor(recall_5).mean(), torch.Tensor(recall_10).mean()                                           "
   ]
  },
  {
   "cell_type": "code",
   "execution_count": 6,
   "metadata": {},
   "outputs": [],
   "source": [
    "def test_dense_performance(encoded_ims, encoded_caps):\n",
    "    encoded_ims = encoded_ims[0::5] / encoded_ims[0::5].norm(dim=-1, keepdim=True)\n",
    "    encoded_caps = encoded_caps / encoded_caps.norm(dim=-1, keepdim=True)\n",
    "\n",
    "    recall_1 = []\n",
    "    recall_5 = []\n",
    "    recall_10 = []\n",
    "    i = 0\n",
    "    image_id = 0\n",
    "    for text_feature in encoded_caps:\n",
    "        similarity = (100.0 * text_feature.to(device) @ encoded_ims.T).softmax(dim=-1)\n",
    "\n",
    "        values, indices = similarity.topk(1)\n",
    "        recall_1.append(image_id in indices)\n",
    "\n",
    "        values, indices = similarity.topk(5)\n",
    "        recall_5.append(image_id in indices)\n",
    "\n",
    "        values, indices = similarity.topk(10)\n",
    "        recall_10.append(image_id in indices)\n",
    "\n",
    "        i += 1\n",
    "        if i == 5:\n",
    "            i = 0\n",
    "            image_id += 1\n",
    "\n",
    "    recall_1 = torch.Tensor(recall_1)\n",
    "    recall_5 = torch.Tensor(recall_5)\n",
    "    recall_10 = torch.Tensor(recall_10)\n",
    "    \n",
    "    return recall_1.mean(), recall_5.mean(), recall_10.mean()"
   ]
  },
  {
   "cell_type": "code",
   "execution_count": 7,
   "metadata": {},
   "outputs": [],
   "source": [
    "# \"ViT-L/14@336px\" \"ViT-B/32\" "
   ]
  },
  {
   "cell_type": "code",
   "execution_count": 8,
   "metadata": {},
   "outputs": [
    {
     "name": "stdout",
     "output_type": "stream",
     "text": [
      "359664128\n",
      "101385216\n"
     ]
    }
   ],
   "source": [
    "print(torch.cuda.memory_allocated())\n",
    "model = 0\n",
    "print(torch.cuda.memory_allocated())"
   ]
  },
  {
   "cell_type": "code",
   "execution_count": 7,
   "metadata": {},
   "outputs": [
    {
     "data": {
      "text/plain": [
       "<All keys matched successfully>"
      ]
     },
     "execution_count": 7,
     "metadata": {},
     "output_type": "execute_result"
    }
   ],
   "source": [
    "device = \"cuda:0\" if torch.cuda.is_available() else \"cpu\"\n",
    "model, preprocess = clip.load(\"ViT-B/32\" ,device=device,jit=False)\n",
    "\n",
    "checkpoint = torch.load(\"D:/thesis/Models/flickr30k trained/92.pt\", map_location='cpu')\n",
    "model.load_state_dict(checkpoint['model_state_dict'])"
   ]
  },
  {
   "cell_type": "code",
   "execution_count": 8,
   "metadata": {},
   "outputs": [],
   "source": [
    "embed_dim = model.text_projection.shape[1]\n",
    "sparse_mlm = SparseEncoder(embed_dim, model.vocab_size, model.token_embedding).to(device)"
   ]
  },
  {
   "cell_type": "code",
   "execution_count": 16,
   "metadata": {},
   "outputs": [],
   "source": [
    "#open the json file for annotations\n",
    "f = open('datasets/flickr30k/dataset_flickr30k.json')\n",
    "data = json.load(f)\n",
    "\n",
    "# load all captions\n",
    "caps = [x['sentences'] for x in data['images'] if x.get('split') == 'train']\n",
    "test_caps = [x['sentences'] for x in data['images'] if x.get('split') == 'test']\n",
    "\n",
    "files = []\n",
    "test_files = []\n",
    "for x in data['images']:\n",
    "    if x.get('split') == 'train':\n",
    "        files.append('datasets/flickr30k/train/' + x['filename'])\n",
    "    \n",
    "    elif x.get('split') == 'test':\n",
    "        test_files.append('datasets/flickr30k/test/' + x['filename'])\n",
    "            \n",
    "captions = []\n",
    "for x in caps:\n",
    "    for y in x:\n",
    "        captions.append(y)\n",
    "        \n",
    "test_captions = []\n",
    "for x in test_caps:\n",
    "    for y in x:\n",
    "        test_captions.append(y)\n",
    "    \n",
    "captions = [x.get('raw') for x in captions]\n",
    "test_captions = [x.get('raw') for x in test_captions]\n",
    "\n",
    "# these captions are too long and need adjusting\n",
    "captions[13035] = 'Four young adults sit outside on a wooden deck near a building around a small round table, while another person stands on the edge of the deck, leaning on the wooden railing, with the sun shining on one of them, one holding a cellphone out in front of himself and another holding a green and red soda can.'\n",
    "captions[14580] = 'A man wearing a helmet, red pants with white and a white and red shirt is on a small bicycle using only his hands, while another man wearing a light blue shirt with dark blue trim and black pants with red stripes is standing nearby, gesturing toward the first man and holding a small figurine.'\n",
    "captions[120165] = 'In this photo there is a man in a dirty white shirt and a black hat with yellow stained teeth, he looks happy and it appears that he is also repairing something.'\n",
    "test_captions[3905] = 'Two boys are looking upwards with their arms streteched to the sky, the boy on the left is wearing a blue vest jacket with a gray shirt, black jogging pants and a hat, and the boy on the right is wearing a silver vest jacket, with blue long-sleeved undershirt, gray pants, black tennis shoes and has black short hair and glasses.'"
   ]
  },
  {
   "cell_type": "code",
   "execution_count": 8,
   "metadata": {},
   "outputs": [],
   "source": [
    "files = files[0:10]\n",
    "captions = captions[0:50]"
   ]
  },
  {
   "cell_type": "code",
   "execution_count": 11,
   "metadata": {},
   "outputs": [
    {
     "name": "stdout",
     "output_type": "stream",
     "text": [
      "28992 / 29000 988980736\n",
      "done\n",
      "1681.2453961372375\n"
     ]
    }
   ],
   "source": [
    "# encode images\n",
    "L = len(files)\n",
    "batch_size = 32\n",
    "t1 = time.time()\n",
    "with torch.no_grad():\n",
    "    encoded_ims = torch.Tensor()\n",
    "    for i in range(0, L, batch_size):\n",
    "        print(i,\"/\",L, torch.cuda.memory_allocated(), end='\\r')\n",
    "        images = torch.Tensor().to(device)\n",
    "        for x in range(batch_size):\n",
    "            if (i + x) < L:\n",
    "                image = preprocess(Image.open(files[i+x])).to(device)\n",
    "                images = torch.cat((images, image.reshape(1,3,336,336)), 0)\n",
    "                \n",
    "        ims = model.encode_image(images)\n",
    "        encoded_ims = torch.cat((encoded_ims, torch.repeat_interleave(ims.to(\"cpu\"), 5, dim=0)), 0)\n",
    "\n",
    "encoded_images = encoded_ims.to(device)\n",
    "print(\"\")\n",
    "print(\"done\")\n",
    "print(time.time() - t1)"
   ]
  },
  {
   "cell_type": "code",
   "execution_count": null,
   "metadata": {},
   "outputs": [],
   "source": [
    "# vitb32, vitb32Ft, vitL14@336"
   ]
  },
  {
   "cell_type": "code",
   "execution_count": 9,
   "metadata": {},
   "outputs": [],
   "source": [
    "encoded_images = torch.load(\"pt datafiles/flickr/encoded_images_vitb32Ft.pt\")"
   ]
  },
  {
   "cell_type": "code",
   "execution_count": 10,
   "metadata": {},
   "outputs": [
    {
     "data": {
      "text/plain": [
       "torch.Size([145000, 512])"
      ]
     },
     "execution_count": 10,
     "metadata": {},
     "output_type": "execute_result"
    }
   ],
   "source": [
    "encoded_images.shape"
   ]
  },
  {
   "cell_type": "code",
   "execution_count": 12,
   "metadata": {},
   "outputs": [],
   "source": [
    "torch.save(encoded_images, \"encoded_images_vitL14@336.pt\")"
   ]
  },
  {
   "cell_type": "code",
   "execution_count": 14,
   "metadata": {},
   "outputs": [
    {
     "name": "stdout",
     "output_type": "stream",
     "text": [
      "144896 / 145000\n",
      "done\n"
     ]
    }
   ],
   "source": [
    "text = clip.tokenize(captions).to(device)\n",
    "\n",
    "# encode captions\n",
    "text_features = torch.Tensor().to(device)\n",
    "with torch.no_grad():\n",
    "    for i in range(0, len(text), 128):\n",
    "        ts = model.encode_text(text[i:i+128])\n",
    "        text_features = torch.cat((text_features, ts), 0)\n",
    "        if (i%256) == 0:\n",
    "            print(i,\"/\",len(text), end='\\r')\n",
    "\n",
    "print(\"\")\n",
    "print(\"done\")"
   ]
  },
  {
   "cell_type": "code",
   "execution_count": 11,
   "metadata": {},
   "outputs": [],
   "source": [
    "text_features = torch.load(\"pt datafiles/flickr/encoded_captions_vitb32Ft.pt\")"
   ]
  },
  {
   "cell_type": "code",
   "execution_count": 12,
   "metadata": {},
   "outputs": [
    {
     "data": {
      "text/plain": [
       "torch.Size([145000, 512])"
      ]
     },
     "execution_count": 12,
     "metadata": {},
     "output_type": "execute_result"
    }
   ],
   "source": [
    "text_features.shape"
   ]
  },
  {
   "cell_type": "code",
   "execution_count": 15,
   "metadata": {},
   "outputs": [],
   "source": [
    "torch.save(text_features, \"encoded_captions_vitL14@336.pt\")"
   ]
  },
  {
   "cell_type": "code",
   "execution_count": 17,
   "metadata": {},
   "outputs": [
    {
     "name": "stdout",
     "output_type": "stream",
     "text": [
      "992 / 1000 985397760\n",
      "done\n",
      "6.27539587020874\n"
     ]
    }
   ],
   "source": [
    "# encode images\n",
    "L = len(test_files)\n",
    "batch_size = 32\n",
    "t1 = time.time()\n",
    "with torch.no_grad():\n",
    "    test_ims = torch.Tensor()\n",
    "    for i in range(0, L, batch_size):\n",
    "        print(i,\"/\",L, torch.cuda.memory_allocated(), end='\\r')\n",
    "        images = torch.Tensor().to(device)\n",
    "        for x in range(batch_size):\n",
    "            if (i + x) < L:\n",
    "                image = preprocess(Image.open(test_files[i+x])).to(device)\n",
    "                images = torch.cat((images, image.reshape(1,3,224,224)), 0)\n",
    "                \n",
    "        ims = model.encode_image(images)\n",
    "        test_ims = torch.cat((test_ims, ims.to(\"cpu\")), 0)\n",
    "\n",
    "test_images = test_ims.to(device)\n",
    "print(\"\")\n",
    "print(\"done\")\n",
    "print(time.time() - t1)"
   ]
  },
  {
   "cell_type": "code",
   "execution_count": 13,
   "metadata": {},
   "outputs": [],
   "source": [
    "test_images = torch.load(\"pt datafiles/flickr/test_images_vitb32Ft.pt\")"
   ]
  },
  {
   "cell_type": "code",
   "execution_count": 19,
   "metadata": {},
   "outputs": [
    {
     "data": {
      "text/plain": [
       "torch.Size([1000, 512])"
      ]
     },
     "execution_count": 19,
     "metadata": {},
     "output_type": "execute_result"
    }
   ],
   "source": [
    "test_images.shape"
   ]
  },
  {
   "cell_type": "code",
   "execution_count": 18,
   "metadata": {},
   "outputs": [],
   "source": [
    "torch.save(test_images, \"test_images_vitb32Ft.pt\")"
   ]
  },
  {
   "cell_type": "code",
   "execution_count": 26,
   "metadata": {},
   "outputs": [
    {
     "name": "stdout",
     "output_type": "stream",
     "text": [
      "4864 / 5000\n",
      "done\n"
     ]
    }
   ],
   "source": [
    "text = clip.tokenize(test_captions).to(device)\n",
    "\n",
    "# encode captions\n",
    "test_features = torch.Tensor().to(device)\n",
    "with torch.no_grad():\n",
    "    for i in range(0, len(text), 128):\n",
    "        ts = model.encode_text(text[i:i+128])\n",
    "        test_features = torch.cat((test_features, ts), 0)\n",
    "        if (i%256) == 0:\n",
    "            print(i,\"/\",len(text), end='\\r')\n",
    "\n",
    "print(\"\")\n",
    "print(\"done\")"
   ]
  },
  {
   "cell_type": "code",
   "execution_count": 20,
   "metadata": {},
   "outputs": [],
   "source": [
    "test_features = torch.load(\"pt datafiles/flickr/test_captions_vitb32Ft.pt\")"
   ]
  },
  {
   "cell_type": "code",
   "execution_count": 21,
   "metadata": {},
   "outputs": [
    {
     "data": {
      "text/plain": [
       "torch.Size([5000, 512])"
      ]
     },
     "execution_count": 21,
     "metadata": {},
     "output_type": "execute_result"
    }
   ],
   "source": [
    "test_features.shape"
   ]
  },
  {
   "cell_type": "code",
   "execution_count": 19,
   "metadata": {},
   "outputs": [],
   "source": [
    "torch.save(test_features, \"test_captions_vitL14@336.pt\")"
   ]
  },
  {
   "cell_type": "code",
   "execution_count": 22,
   "metadata": {},
   "outputs": [],
   "source": [
    "batchsize = 64\n",
    "\n",
    "dataset = encoded_vectors(encoded_images, text_features)\n",
    "train_dataloader = DataLoader(dataset, batch_size = batchsize, shuffle=True)"
   ]
  },
  {
   "cell_type": "code",
   "execution_count": 23,
   "metadata": {},
   "outputs": [
    {
     "name": "stdout",
     "output_type": "stream",
     "text": [
      "5000\n",
      "tensor(0.5302)nce last:  0.9143605232238772\n",
      "tensor(0.7908)\n",
      "tensor(0.8626)\n"
     ]
    }
   ],
   "source": [
    "#before training\n",
    "rec1,rec5,rec10 = test_sparse_performance(sparse_mlm, test_images, test_features)\n",
    "print(rec1)\n",
    "print(rec5)\n",
    "print(rec10)"
   ]
  },
  {
   "cell_type": "code",
   "execution_count": 24,
   "metadata": {},
   "outputs": [
    {
     "name": "stdout",
     "output_type": "stream",
     "text": [
      "loss: 757.94170853123072265\n",
      "5000\n",
      "R@1: tensor(0.5934)ast:  0.9087588787078857\n",
      "\n",
      "loss: 519.247769869864 2265\n",
      "5000\n",
      "R@1: tensor(0.5816)ast:  0.9207675457000732\n",
      "\n",
      "loss: 346.55492580309512265\n",
      "5000\n",
      "R@1: tensor(0.5964)ast:  0.9252562522888184\n",
      "\n",
      "loss: 314.50334586482495265\n",
      "5000\n",
      "R@1: tensor(0.5912)ast:  0.9593751430511475\n",
      "\n",
      "loss: 291.91045474354182265\n",
      "5000\n",
      "R@1: tensor(0.5908)ast:  0.8997485637664795\n",
      "\n",
      "loss: 269.31393012590706265\n",
      "5000\n",
      "R@1: tensor(0.5930)ast:  0.9057459831237793\n",
      "\n",
      "loss: 268.77857599034905265\n",
      "5000\n",
      "R@1: tensor(0.5926)ast:  0.9002456665039062\n",
      "\n",
      "loss: 269.68633797485382265\n",
      "5000\n",
      "R@1: tensor(0.5926)ast:  0.9010930061340332\n",
      "\n",
      "loss: 265.61915476713332265\n",
      "5000\n",
      "R@1: tensor(0.5922)ast:  0.9012835025787354\n",
      "\n",
      "loss: 265.87353944778442265\n",
      "5000\n",
      "R@1: tensor(0.5920)ast:  0.9253442287445068\n",
      "\n",
      "\n",
      "done\n"
     ]
    },
    {
     "data": {
      "image/png": "[encoded data removed]",
      "text/plain": [
       "<Figure size 432x288 with 1 Axes>"
      ]
     },
     "metadata": {
      "needs_background": "light"
     },
     "output_type": "display_data"
    },
    {
     "data": {
      "image/png": "[encoded data removed]",
      "text/plain": [
       "<Figure size 432x288 with 1 Axes>"
      ]
     },
     "metadata": {
      "needs_background": "light"
     },
     "output_type": "display_data"
    }
   ],
   "source": [
    "loss_img = torch.nn.CrossEntropyLoss()\n",
    "loss_txt = torch.nn.CrossEntropyLoss()\n",
    "optimizer = torch.optim.Adam(sparse_mlm.parameters(), lr=1e-4,betas=(0.9,0.98),eps=1e-6,weight_decay=0.001)\n",
    "scheduler = torch.optim.lr_scheduler.MultiStepLR(optimizer, milestones=[2,5,8], gamma=0.1)\n",
    "\n",
    "epochs = 10\n",
    "totalbatches = int(len(dataset) / batchsize)\n",
    "logit_scale = 100 #model.logit_scale.exp().item()\n",
    "alpha = 1\n",
    "lambda1 = 0.0001\n",
    "cliplosses = []\n",
    "sparselosses = []\n",
    "test_loss=[[rec1],[rec5],[rec10]]\n",
    "for epoch in range(0, epochs):\n",
    "    i = 0\n",
    "    cliploss_total = 0\n",
    "    sparseloss_total = 0\n",
    "    for batch in train_dataloader:\n",
    "        if i % 25 == 0:\n",
    "            print(\"epoch:\", epoch, \"batch:\", i, \"/\", totalbatches, end='\\r')\n",
    "       \n",
    "        optimizer.zero_grad()\n",
    "        ims, caps = batch\n",
    "        \n",
    "        # sparse encoding\n",
    "        sparse_ims = sparse_mlm(ims)\n",
    "        sparse_caps = sparse_mlm(caps)\n",
    "        \n",
    "        l1_regularization = torch.norm(sparse_ims, 1) + torch.norm(sparse_caps, 1)\n",
    "\n",
    "        # determine logits\n",
    "        sparse_ims = sparse_ims / sparse_ims.norm(dim=-1, keepdim=True)\n",
    "        sparse_caps = sparse_caps / sparse_caps.norm(dim=-1, keepdim=True)\n",
    "        logits_per_image = logit_scale * sparse_ims @ sparse_caps.t()\n",
    "        logits_per_text = logits_per_image.t()\n",
    "        \n",
    "        # compute losses\n",
    "        ground_truth = torch.arange(len(ims),dtype=torch.long,device=device)\n",
    "        \n",
    "        clip_loss = (loss_img(logits_per_image,ground_truth) + loss_txt(logits_per_text,ground_truth))/2\n",
    "        total_loss = alpha * clip_loss + lambda1 * l1_regularization\n",
    "        \n",
    "        cliploss_total += clip_loss.item()\n",
    "        sparseloss_total += l1_regularization.item()\n",
    "    \n",
    "        total_loss.backward()\n",
    "\n",
    "        optimizer.step()\n",
    "        i+=1\n",
    "        \n",
    "    scheduler.step()    \n",
    "    cliplosses.append(cliploss_total)\n",
    "    sparselosses.append(sparseloss_total)\n",
    "    print(\"loss:\", cliploss_total)\n",
    "    \n",
    "    rec1,rec5,rec10 = test_sparse_performance(sparse_mlm, test_images, test_features)\n",
    "    test_loss[0].append(rec1)\n",
    "    test_loss[1].append(rec5)\n",
    "    test_loss[2].append(rec10)\n",
    "    print(\"R@1:\", rec1)\n",
    "    print(\"\")\n",
    "\"\"\"\n",
    "    torch.save({\n",
    "        'epoch':epoch,\n",
    "        'model_state_dict': sparse_mlm.state_dict(),\n",
    "        'optimizer_state_dict': optimizer.state_dict(),\n",
    "        'loss': total_loss,\n",
    "        }, f\"Models/\" + str(epoch) + \".pt\")\n",
    "\"\"\"      \n",
    "print(\"\")\n",
    "print(\"done\")\n",
    "\n",
    "plt.plot(cliplosses)\n",
    "plt.title('CLIP loss')\n",
    "plt.show()\n",
    "\n",
    "plt.plot(sparselosses)\n",
    "plt.title('L1-reg')\n",
    "plt.show()"
   ]
  },
  {
   "cell_type": "code",
   "execution_count": 25,
   "metadata": {
    "scrolled": true
   },
   "outputs": [
    {
     "data": {
      "text/plain": [
       "[[tensor(0.5302),\n",
       "  tensor(0.5934),\n",
       "  tensor(0.5816),\n",
       "  tensor(0.5964),\n",
       "  tensor(0.5912),\n",
       "  tensor(0.5908),\n",
       "  tensor(0.5930),\n",
       "  tensor(0.5926),\n",
       "  tensor(0.5926),\n",
       "  tensor(0.5922),\n",
       "  tensor(0.5920)],\n",
       " [tensor(0.7908),\n",
       "  tensor(0.8498),\n",
       "  tensor(0.8554),\n",
       "  tensor(0.8638),\n",
       "  tensor(0.8622),\n",
       "  tensor(0.8592),\n",
       "  tensor(0.8584),\n",
       "  tensor(0.8598),\n",
       "  tensor(0.8602),\n",
       "  tensor(0.8598),\n",
       "  tensor(0.8592)],\n",
       " [tensor(0.8626),\n",
       "  tensor(0.9102),\n",
       "  tensor(0.9176),\n",
       "  tensor(0.9204),\n",
       "  tensor(0.9210),\n",
       "  tensor(0.9204),\n",
       "  tensor(0.9200),\n",
       "  tensor(0.9208),\n",
       "  tensor(0.9210),\n",
       "  tensor(0.9206),\n",
       "  tensor(0.9206)]]"
      ]
     },
     "execution_count": 25,
     "metadata": {},
     "output_type": "execute_result"
    }
   ],
   "source": [
    "test_loss"
   ]
  },
  {
   "cell_type": "code",
   "execution_count": 26,
   "metadata": {},
   "outputs": [
    {
     "name": "stdout",
     "output_type": "stream",
     "text": [
      "tensor(0.9973, device='cuda:0')\n"
     ]
    }
   ],
   "source": [
    "with torch.no_grad():\n",
    "    total_nonzero = 0\n",
    "    i = 0\n",
    "    for image in test_images:\n",
    "        sparse = sparse_mlm(image)\n",
    "        total_nonzero += (len(sparse) - torch.count_nonzero(sparse))/len(sparse)\n",
    "        i += 1\n",
    "        \n",
    "    for caption in test_features:\n",
    "        sparse = sparse_mlm(caption)\n",
    "        total_nonzero += (len(sparse) - torch.count_nonzero(sparse))/len(sparse)\n",
    "        i += 1\n",
    "        \n",
    "    print(total_nonzero/i)"
   ]
  },
  {
   "cell_type": "code",
   "execution_count": 28,
   "metadata": {},
   "outputs": [
    {
     "data": {
      "image/png": "[encoded data removed]",
      "text/plain": [
       "<Figure size 432x288 with 1 Axes>"
      ]
     },
     "metadata": {
      "needs_background": "light"
     },
     "output_type": "display_data"
    }
   ],
   "source": [
    "plt.plot(test_loss[0])\n",
    "plt.title('recall@1 testset')\n",
    "plt.show()"
   ]
  },
  {
   "cell_type": "code",
   "execution_count": 32,
   "metadata": {},
   "outputs": [],
   "source": [
    "#open the json file for annotations\n",
    "f = open(\"C:/Users/Lalashops/Desktop/MasterThesis/random images/vocab.json\", encoding = 'utf-8')\n",
    "vocab = json.load(f)"
   ]
  },
  {
   "cell_type": "code",
   "execution_count": 33,
   "metadata": {},
   "outputs": [],
   "source": [
    "sparse_cap = sparse_mlm(test_images[0])"
   ]
  },
  {
   "cell_type": "code",
   "execution_count": 34,
   "metadata": {},
   "outputs": [
    {
     "name": "stdout",
     "output_type": "stream",
     "text": [
      "reflected</w> tensor(0.5257, device='cuda:0', grad_fn=<SelectBackward0>)\n",
      "amphibious</w> tensor(0.4498, device='cuda:0', grad_fn=<SelectBackward0>)\n",
      "floating</w> tensor(0.2255, device='cuda:0', grad_fn=<SelectBackward0>)\n",
      "minded</w> tensor(0.2152, device='cuda:0', grad_fn=<SelectBackward0>)\n",
      "macedonia</w> tensor(0.1916, device='cuda:0', grad_fn=<SelectBackward0>)\n",
      "peterson</w> tensor(0.1734, device='cuda:0', grad_fn=<SelectBackward0>)\n",
      "shaq</w> tensor(0.1689, device='cuda:0', grad_fn=<SelectBackward0>)\n",
      "manipu tensor(0.1620, device='cuda:0', grad_fn=<SelectBackward0>)\n",
      "that tensor(0.1543, device='cuda:0', grad_fn=<SelectBackward0>)\n",
      "geon</w> tensor(0.1481, device='cuda:0', grad_fn=<SelectBackward0>)\n"
     ]
    }
   ],
   "source": [
    "for idx in torch.topk(sparse_cap, 10).indices:\n",
    "    print(list(vocab.keys())[list(vocab.values()).index(idx)], sparse_cap[idx])"
   ]
  },
  {
   "cell_type": "code",
   "execution_count": null,
   "metadata": {},
   "outputs": [],
   "source": []
  }
 ],
 "metadata": {
  "kernelspec": {
   "display_name": "Python 3 (ipykernel)",
   "language": "python",
   "name": "python3"
  },
  "language_info": {
   "codemirror_mode": {
    "name": "ipython",
    "version": 3
   },
   "file_extension": ".py",
   "mimetype": "text/x-python",
   "name": "python",
   "nbconvert_exporter": "python",
   "pygments_lexer": "ipython3",
   "version": "3.8.2"
  }
 },
 "nbformat": 4,
 "nbformat_minor": 4
}
