{
 "cells": [
  {
   "cell_type": "code",
   "execution_count": 1,
   "metadata": {},
   "outputs": [],
   "source": [
    "#imports\n",
    "import torch\n",
    "from torch import nn\n",
    "from torch.utils.data import DataLoader\n",
    "\n",
    "import matplotlib.pyplot as plt\n",
    "import json\n",
    "import glob\n",
    "import time\n",
    "from PIL import Image"
   ]
  },
  {
   "cell_type": "code",
   "execution_count": 2,
   "metadata": {},
   "outputs": [],
   "source": [
    "from transformers import CLIPProcessor, CLIPModel\n",
    "\n",
    "device = \"cuda:0\" if torch.cuda.is_available() else \"cpu\"\n",
    "model = CLIPModel.from_pretrained(\"openai/clip-vit-base-patch32\").to(device)\n",
    "processor = CLIPProcessor.from_pretrained(\"openai/clip-vit-base-patch32\")\n",
    "\n",
    "preprocess = processor.feature_extractor\n",
    "tokenizer = processor.tokenizer"
   ]
  },
  {
   "cell_type": "code",
   "execution_count": 3,
   "metadata": {},
   "outputs": [],
   "source": [
    "class MLP(nn.Module):\n",
    "    def __init__(self, dense_size, vocab_size):\n",
    "        super().__init__()\n",
    "        self.vocab_size = vocab_size\n",
    "        self.linear = nn.Linear(dense_size, 1)\n",
    "        self.linear.apply(self._init_weights)\n",
    "        \n",
    "    def _init_weights(self, module):\n",
    "        torch.nn.init.kaiming_normal_(module.weight.data, nonlinearity=\"relu\")\n",
    "    \n",
    "    def forward(self, last_hidden_states, input_ids, attention_mask):\n",
    "        batch_size = last_hidden_states.shape[0]\n",
    "        tok_weights = torch.log1p(torch.relu(self.linear(last_hidden_states))).squeeze(-1)*attention_mask\n",
    "        lex_weights = torch.zeros(batch_size, self.vocab_size).to(device)\n",
    "        columns = torch.arange(batch_size).repeat((77,1)).T\n",
    "        lex_weights[columns, input_ids.type(torch.int64)] = tok_weights\n",
    "        return lex_weights"
   ]
  },
  {
   "cell_type": "code",
   "execution_count": 4,
   "metadata": {},
   "outputs": [],
   "source": [
    "class MLM(nn.Module):\n",
    "    def __init__(self, dense_size, vocab_size):\n",
    "        super().__init__()\n",
    "        self.linear = nn.Linear(dense_size, vocab_size)\n",
    "        \n",
    "    def forward(self, dense_vec):\n",
    "        term_importances = torch.log1p(torch.relu(self.linear(dense_vec)))\n",
    "        return term_importances"
   ]
  },
  {
   "cell_type": "code",
   "execution_count": 5,
   "metadata": {},
   "outputs": [],
   "source": [
    "def test_sparse_performance(MLP, MLM, CLIP, test_loader):\n",
    "    with torch.no_grad():\n",
    "        encoded_images = torch.Tensor()\n",
    "        encoded_captions = torch.Tensor()\n",
    "        for batch in test_loader:\n",
    "            ims, tokenized_caps = batch\n",
    "            # encode images\n",
    "            ims = model.vision_model(ims.to(device)).pooler_output\n",
    "            ims = model.visual_projection(ims)\n",
    "            encoded_ims = image_encoder(ims)\n",
    "            # encode captions\n",
    "            batch_length = tokenized_caps['input_ids'].shape[0]\n",
    "            tokenized_caps['input_ids'] = tokenized_caps['input_ids'].reshape(batch_length*5, 77)\n",
    "            tokenized_caps['attention_mask'] = tokenized_caps['attention_mask'].reshape(batch_length*5, 77)\n",
    "            last_hidden_states = model.text_model(**tokenized_caps).last_hidden_state\n",
    "            last_hidden_states = model.text_projection(last_hidden_states)\n",
    "            input_ids = tokenized_caps['input_ids']\n",
    "            attention_masks = tokenized_caps['attention_mask']\n",
    "            encoded_caps = text_encoder(last_hidden_states, input_ids, attention_masks)\n",
    "            # normalize\n",
    "            encoded_ims = encoded_ims / encoded_ims.norm(dim=-1, keepdim=True)\n",
    "            encoded_caps = encoded_caps / (encoded_caps + 1e-20).norm(dim=-1, keepdim=True)\n",
    "            \n",
    "            encoded_images = torch.cat((encoded_images, encoded_ims.to(\"cpu\")), 0)\n",
    "            encoded_captions = torch.cat((encoded_captions, encoded_caps.to(\"cpu\")), 0)\n",
    "        \n",
    "        recall_1 = []\n",
    "        recall_5 = []\n",
    "        recall_10 = []\n",
    "        encoded_images = encoded_images.to(device)\n",
    "        i = 0\n",
    "        image_id = 0\n",
    "        for text_feature in encoded_captions:\n",
    "            similarity = (100.0 * text_feature.to(device) @ encoded_images.T).softmax(dim=-1)\n",
    "\n",
    "            values, indices = similarity.topk(1)\n",
    "            recall_1.append(image_id in indices)\n",
    "\n",
    "            values, indices = similarity.topk(5)\n",
    "            recall_5.append(image_id in indices)\n",
    "\n",
    "            values, indices = similarity.topk(10)\n",
    "            recall_10.append(image_id in indices)\n",
    "\n",
    "            i += 1\n",
    "            if i == 5:\n",
    "                i = 0\n",
    "                image_id += 1\n",
    "\n",
    "        recall_1 = torch.Tensor(recall_1)\n",
    "        recall_5 = torch.Tensor(recall_5)\n",
    "        recall_10 = torch.Tensor(recall_10)\n",
    "        return recall_1.mean(), recall_5.mean(), recall_10.mean()"
   ]
  },
  {
   "cell_type": "code",
   "execution_count": 6,
   "metadata": {},
   "outputs": [],
   "source": [
    "def test_CLIP_performance(CLIP, test_loader):\n",
    "    with torch.no_grad():\n",
    "        encoded_images = torch.Tensor()\n",
    "        encoded_captions = torch.Tensor()\n",
    "        for batch in test_loader:\n",
    "            ims, tokenized_caps = batch\n",
    "            # encode images\n",
    "            ims = model.vision_model(ims.to(device)).pooler_output\n",
    "            ims = model.visual_projection(ims)\n",
    "            # encode captions\n",
    "            batch_length = tokenized_caps['input_ids'].shape[0]\n",
    "            tokenized_caps['input_ids'] = tokenized_caps['input_ids'].reshape(batch_length*5, 77)\n",
    "            tokenized_caps['attention_mask'] = tokenized_caps['attention_mask'].reshape(batch_length*5, 77)\n",
    "            pooler_output = model.text_model(**tokenized_caps).pooler_output\n",
    "            pooler_output = model.text_projection(pooler_output)\n",
    "            \n",
    "            # normalize\n",
    "            ims = ims / ims.norm(dim=-1, keepdim=True)\n",
    "            pooler_output = pooler_output / pooler_output.norm(dim=-1, keepdim=True)\n",
    "            \n",
    "            encoded_images = torch.cat((encoded_images, ims.to(\"cpu\")), 0)\n",
    "            encoded_captions = torch.cat((encoded_captions, pooler_output.to(\"cpu\")), 0)\n",
    "        \n",
    "        recall_1 = []\n",
    "        recall_5 = []\n",
    "        recall_10 = []\n",
    "        encoded_images = encoded_images.to(device)\n",
    "        i = 0\n",
    "        image_id = 0\n",
    "        for text_feature in encoded_captions:\n",
    "            similarity = (100.0 * text_feature.to(device) @ encoded_images.T).softmax(dim=-1)\n",
    "\n",
    "            values, indices = similarity.topk(1)\n",
    "            recall_1.append(image_id in indices)\n",
    "\n",
    "            values, indices = similarity.topk(5)\n",
    "            recall_5.append(image_id in indices)\n",
    "\n",
    "            values, indices = similarity.topk(10)\n",
    "            recall_10.append(image_id in indices)\n",
    "\n",
    "            i += 1\n",
    "            if i == 5:\n",
    "                i = 0\n",
    "                image_id += 1\n",
    "\n",
    "        recall_1 = torch.Tensor(recall_1)\n",
    "        recall_5 = torch.Tensor(recall_5)\n",
    "        recall_10 = torch.Tensor(recall_10)\n",
    "        return recall_1.mean(), recall_5.mean(), recall_10.mean()"
   ]
  },
  {
   "cell_type": "code",
   "execution_count": 7,
   "metadata": {},
   "outputs": [],
   "source": [
    "class TrainBatches():\n",
    "    def __init__(self, image_vectors, captions):\n",
    "\n",
    "        self.images = image_vectors\n",
    "        self.captions  = captions\n",
    "\n",
    "    def __len__(self):\n",
    "        return len(self.captions)\n",
    "\n",
    "    def __getitem__(self, idx):\n",
    "        image = self.images[idx]\n",
    "        caption = self.captions[idx]\n",
    "        return image,caption"
   ]
  },
  {
   "cell_type": "code",
   "execution_count": 8,
   "metadata": {},
   "outputs": [],
   "source": [
    "#open the json file for annotations\n",
    "f = open('datasets/flickr30k/dataset_flickr30k.json')\n",
    "data = json.load(f)\n",
    "\n",
    "# load all captions\n",
    "caps = [x['sentences'] for x in data['images'] if x.get('split') == 'train']\n",
    "test_caps = [x['sentences'] for x in data['images'] if x.get('split') == 'test']\n",
    "\n",
    "files = []\n",
    "test_files = []\n",
    "for x in data['images']:\n",
    "    if x.get('split') == 'train':\n",
    "        files.append('datasets/flickr30k/train/' + x['filename'])\n",
    "    \n",
    "    elif x.get('split') == 'test':\n",
    "        test_files.append('datasets/flickr30k/test/' + x['filename'])\n",
    "            \n",
    "captions = []\n",
    "for x in caps:\n",
    "    for y in x:\n",
    "        captions.append(y)\n",
    "        \n",
    "test_captions = []\n",
    "for x in test_caps:\n",
    "    for y in x:\n",
    "        test_captions.append(y)\n",
    "    \n",
    "captions = [x.get('raw') for x in captions]\n",
    "test_captions = [x.get('raw') for x in test_captions]\n",
    "\n",
    "# these captions are too long and need adjusting\n",
    "captions[13035] = 'Four young adults sit outside on a wooden deck near a building around a small round table, while another person stands on the edge of the deck, leaning on the wooden railing, with the sun shining on one of them, one holding a cellphone out in front of himself and another holding a green and red soda can.'\n",
    "captions[14580] = 'A man wearing a helmet, red pants with white and a white and red shirt is on a small bicycle using only his hands, while another man wearing a light blue shirt with dark blue trim and black pants with red stripes is standing nearby, gesturing toward the first man and holding a small figurine.'\n",
    "captions[120165] = 'In this photo there is a man in a dirty white shirt and a black hat with yellow stained teeth, he looks happy and it appears that he is also repairing something.'\n",
    "test_captions[3905] = 'Two boys are looking upwards with their arms streteched to the sky, the boy on the left is wearing a blue vest jacket with a gray shirt, black jogging pants and a hat, and the boy on the right is wearing a silver vest jacket, with blue long-sleeved undershirt, gray pants, black tennis shoes and has black short hair and glasses.'"
   ]
  },
  {
   "cell_type": "code",
   "execution_count": 9,
   "metadata": {},
   "outputs": [],
   "source": [
    "files = files[0:1000]\n",
    "captions = captions[0:5000]\n",
    "\n",
    "#test_files = test_files[0:100]\n",
    "#test_captions = test_captions[0:500]"
   ]
  },
  {
   "cell_type": "code",
   "execution_count": 10,
   "metadata": {},
   "outputs": [
    {
     "name": "stdout",
     "output_type": "stream",
     "text": [
      "1000 / 1000\n",
      "done\n"
     ]
    }
   ],
   "source": [
    "images = []\n",
    "i = 0\n",
    "with torch.no_grad():\n",
    "    for filename in files:\n",
    "        im = preprocess(Image.open(filename), return_tensors='pt')['pixel_values'].squeeze()\n",
    "        for _ in range(5):\n",
    "            images.append(im)\n",
    "        i+=1\n",
    "        if (i%100) == 0:\n",
    "            print(i,\"/\",len(files), end='\\r')\n",
    "        \n",
    "print(\"\")\n",
    "print(\"done\")"
   ]
  },
  {
   "cell_type": "code",
   "execution_count": 11,
   "metadata": {},
   "outputs": [
    {
     "name": "stdout",
     "output_type": "stream",
     "text": [
      "4000 / 5000\n",
      "done\n",
      "1.0879895687103271\n"
     ]
    }
   ],
   "source": [
    "# tokenize captions\n",
    "L = len(captions)\n",
    "t1 = time.time()\n",
    "with torch.no_grad():\n",
    "    tokenized_captions = []\n",
    "    for i in range(0, L):\n",
    "        if (i%1000) == 0:\n",
    "            print(i,\"/\",L, end='\\r')\n",
    "        text = tokenizer(captions[i], padding='max_length', max_length=77, return_tensors='pt').to(device)\n",
    "        tokenized_captions.append(text)\n",
    "        \n",
    "print(\"\")\n",
    "print(\"done\")\n",
    "print(time.time() - t1)"
   ]
  },
  {
   "cell_type": "code",
   "execution_count": 12,
   "metadata": {},
   "outputs": [
    {
     "name": "stdout",
     "output_type": "stream",
     "text": [
      "1000 / 1000\n",
      "done\n"
     ]
    }
   ],
   "source": [
    "test_images = []\n",
    "i = 0\n",
    "with torch.no_grad():\n",
    "    for filename in test_files:\n",
    "        im = preprocess(Image.open(filename), return_tensors='pt')['pixel_values'].squeeze()\n",
    "        test_images.append(im)\n",
    "        i+=1\n",
    "        if (i%100) == 0:\n",
    "            print(i,\"/\",len(test_files), end='\\r')\n",
    "        \n",
    "print(\"\")\n",
    "print(\"done\")"
   ]
  },
  {
   "cell_type": "code",
   "execution_count": 13,
   "metadata": {},
   "outputs": [
    {
     "name": "stdout",
     "output_type": "stream",
     "text": [
      "4000 / 5000\n",
      "done\n",
      "0.3860287666320801\n"
     ]
    }
   ],
   "source": [
    "# tokenize captions\n",
    "L = len(test_captions)\n",
    "t1 = time.time()\n",
    "with torch.no_grad():\n",
    "    test_features = []\n",
    "    for i in range(0, L, 5):\n",
    "        if (i%1000) == 0:\n",
    "            print(i,\"/\",L, end='\\r')\n",
    "        text = tokenizer(test_captions[i:i+5], padding='max_length', max_length=77, return_tensors='pt').to(device)\n",
    "        test_features.append(text)\n",
    "        \n",
    "print(\"\")\n",
    "print(\"done\")\n",
    "print(time.time() - t1)"
   ]
  },
  {
   "cell_type": "code",
   "execution_count": 14,
   "metadata": {},
   "outputs": [],
   "source": [
    "batchsize = 64\n",
    "\n",
    "test_dataset = TrainBatches(test_images, test_features)\n",
    "test_dataloader = DataLoader(test_dataset, batch_size = batchsize, shuffle=True)"
   ]
  },
  {
   "cell_type": "code",
   "execution_count": 15,
   "metadata": {},
   "outputs": [],
   "source": [
    "batchsize = 16\n",
    "\n",
    "dataset = TrainBatches(images, tokenized_captions)\n",
    "train_dataloader = DataLoader(dataset, batch_size = batchsize, shuffle=True)"
   ]
  },
  {
   "cell_type": "code",
   "execution_count": 16,
   "metadata": {},
   "outputs": [],
   "source": [
    "dense_text_size = model.text_projection.weight.shape[0]\n",
    "dense_image_size = model.visual_projection.weight.shape[0]\n",
    "vocab_size = model.text_model.config.vocab_size\n",
    "\n",
    "text_encoder = MLP(dense_text_size, vocab_size).to(device)\n",
    "image_encoder = MLM(dense_image_size, vocab_size).to(device)"
   ]
  },
  {
   "cell_type": "code",
   "execution_count": 17,
   "metadata": {},
   "outputs": [
    {
     "name": "stdout",
     "output_type": "stream",
     "text": [
      "tensor(0.0004)\n",
      "tensor(0.0028)\n",
      "tensor(0.0070)\n"
     ]
    }
   ],
   "source": [
    "#before training\n",
    "rec1,rec5,rec10 = test_sparse_performance(text_encoder, image_encoder, model, test_dataloader)\n",
    "\n",
    "print(rec1)\n",
    "print(rec5)\n",
    "print(rec10)"
   ]
  },
  {
   "cell_type": "code",
   "execution_count": 18,
   "metadata": {},
   "outputs": [
    {
     "data": {
      "text/plain": [
       "(tensor(0.5882), tensor(0.8344), tensor(0.9008))"
      ]
     },
     "execution_count": 18,
     "metadata": {},
     "output_type": "execute_result"
    }
   ],
   "source": [
    "test_CLIP_performance(model, test_dataloader)"
   ]
  },
  {
   "cell_type": "code",
   "execution_count": 44,
   "metadata": {},
   "outputs": [],
   "source": [
    "a = torch.Tensor([[0,1,2], [1,1,1], [1,1,1], [1,1,1]])\n",
    "b = torch.Tensor([[1,1,1], [1,1,1], [1,1,1], [0,1,2]])"
   ]
  },
  {
   "cell_type": "code",
   "execution_count": null,
   "metadata": {},
   "outputs": [],
   "source": []
  },
  {
   "cell_type": "code",
   "execution_count": 46,
   "metadata": {},
   "outputs": [
    {
     "ename": "RuntimeError",
     "evalue": "X1 and X2 must have the same number of columns. X1: 3 X2: 4",
     "output_type": "error",
     "traceback": [
      "\u001b[1;31m---------------------------------------------------------------------------\u001b[0m",
      "\u001b[1;31mRuntimeError\u001b[0m                              Traceback (most recent call last)",
      "\u001b[1;32mC:\\Users\\LALASH~1\\AppData\\Local\\Temp/ipykernel_11648/2131548332.py\u001b[0m in \u001b[0;36m<module>\u001b[1;34m\u001b[0m\n\u001b[1;32m----> 1\u001b[1;33m \u001b[0mtorch\u001b[0m\u001b[1;33m.\u001b[0m\u001b[0mcdist\u001b[0m\u001b[1;33m(\u001b[0m\u001b[0ma\u001b[0m\u001b[1;33m,\u001b[0m\u001b[0mb\u001b[0m\u001b[1;33m.\u001b[0m\u001b[0mt\u001b[0m\u001b[1;33m(\u001b[0m\u001b[1;33m)\u001b[0m\u001b[1;33m)\u001b[0m\u001b[1;33m\u001b[0m\u001b[1;33m\u001b[0m\u001b[0m\n\u001b[0m",
      "\u001b[1;32mc:\\python\\lib\\site-packages\\torch\\functional.py\u001b[0m in \u001b[0;36mcdist\u001b[1;34m(x1, x2, p, compute_mode)\u001b[0m\n\u001b[0;32m   1181\u001b[0m             cdist, (x1, x2), x1, x2, p=p, compute_mode=compute_mode)\n\u001b[0;32m   1182\u001b[0m     \u001b[1;32mif\u001b[0m \u001b[0mcompute_mode\u001b[0m \u001b[1;33m==\u001b[0m \u001b[1;34m'use_mm_for_euclid_dist_if_necessary'\u001b[0m\u001b[1;33m:\u001b[0m\u001b[1;33m\u001b[0m\u001b[1;33m\u001b[0m\u001b[0m\n\u001b[1;32m-> 1183\u001b[1;33m         \u001b[1;32mreturn\u001b[0m \u001b[0m_VF\u001b[0m\u001b[1;33m.\u001b[0m\u001b[0mcdist\u001b[0m\u001b[1;33m(\u001b[0m\u001b[0mx1\u001b[0m\u001b[1;33m,\u001b[0m \u001b[0mx2\u001b[0m\u001b[1;33m,\u001b[0m \u001b[0mp\u001b[0m\u001b[1;33m,\u001b[0m \u001b[1;32mNone\u001b[0m\u001b[1;33m)\u001b[0m  \u001b[1;31m# type: ignore[attr-defined]\u001b[0m\u001b[1;33m\u001b[0m\u001b[1;33m\u001b[0m\u001b[0m\n\u001b[0m\u001b[0;32m   1184\u001b[0m     \u001b[1;32melif\u001b[0m \u001b[0mcompute_mode\u001b[0m \u001b[1;33m==\u001b[0m \u001b[1;34m'use_mm_for_euclid_dist'\u001b[0m\u001b[1;33m:\u001b[0m\u001b[1;33m\u001b[0m\u001b[1;33m\u001b[0m\u001b[0m\n\u001b[0;32m   1185\u001b[0m         \u001b[1;32mreturn\u001b[0m \u001b[0m_VF\u001b[0m\u001b[1;33m.\u001b[0m\u001b[0mcdist\u001b[0m\u001b[1;33m(\u001b[0m\u001b[0mx1\u001b[0m\u001b[1;33m,\u001b[0m \u001b[0mx2\u001b[0m\u001b[1;33m,\u001b[0m \u001b[0mp\u001b[0m\u001b[1;33m,\u001b[0m \u001b[1;36m1\u001b[0m\u001b[1;33m)\u001b[0m  \u001b[1;31m# type: ignore[attr-defined]\u001b[0m\u001b[1;33m\u001b[0m\u001b[1;33m\u001b[0m\u001b[0m\n",
      "\u001b[1;31mRuntimeError\u001b[0m: X1 and X2 must have the same number of columns. X1: 3 X2: 4"
     ]
    }
   ],
   "source": [
    "torch.cdist(a,b.t())"
   ]
  },
  {
   "cell_type": "code",
   "execution_count": 40,
   "metadata": {},
   "outputs": [
    {
     "data": {
      "text/plain": [
       "tensor([1.4142, 0.0000, 0.0000, 0.0000])"
      ]
     },
     "execution_count": 40,
     "metadata": {},
     "output_type": "execute_result"
    }
   ],
   "source": [
    "(a-b).pow(2).sum(1).sqrt()"
   ]
  },
  {
   "cell_type": "code",
   "execution_count": 18,
   "metadata": {},
   "outputs": [
    {
     "name": "stdout",
     "output_type": "stream",
     "text": [
      "epoch: 0 batch: 9062 / 9062\r"
     ]
    },
    {
     "data": {
      "image/png": "[encoded data removed]",
      "text/plain": [
       "<Figure size 432x288 with 1 Axes>"
      ]
     },
     "metadata": {
      "needs_background": "light"
     },
     "output_type": "display_data"
    },
    {
     "data": {
      "image/png": "[encoded data removed]",
      "text/plain": [
       "<Figure size 432x288 with 1 Axes>"
      ]
     },
     "metadata": {
      "needs_background": "light"
     },
     "output_type": "display_data"
    },
    {
     "name": "stdout",
     "output_type": "stream",
     "text": [
      "(tensor(0.6324), tensor(0.8722), tensor(0.9300))\n",
      "epoch: 1 batch: 9062 / 9062\r"
     ]
    },
    {
     "data": {
      "image/png": "[encoded data removed]",
      "text/plain": [
       "<Figure size 432x288 with 1 Axes>"
      ]
     },
     "metadata": {
      "needs_background": "light"
     },
     "output_type": "display_data"
    },
    {
     "data": {
      "image/png": "[encoded data removed]",
      "text/plain": [
       "<Figure size 432x288 with 1 Axes>"
      ]
     },
     "metadata": {
      "needs_background": "light"
     },
     "output_type": "display_data"
    },
    {
     "name": "stdout",
     "output_type": "stream",
     "text": [
      "(tensor(0.6338), tensor(0.8754), tensor(0.9294))\n",
      "epoch: 2 batch: 9062 / 9062\r"
     ]
    },
    {
     "data": {
      "image/png": "[encoded data removed]",
      "text/plain": [
       "<Figure size 432x288 with 1 Axes>"
      ]
     },
     "metadata": {
      "needs_background": "light"
     },
     "output_type": "display_data"
    },
    {
     "data": {
      "image/png": "[encoded data removed]",
      "text/plain": [
       "<Figure size 432x288 with 1 Axes>"
      ]
     },
     "metadata": {
      "needs_background": "light"
     },
     "output_type": "display_data"
    },
    {
     "name": "stdout",
     "output_type": "stream",
     "text": [
      "(tensor(0.6224), tensor(0.8630), tensor(0.9230))\n",
      "epoch: 3 batch: 9062 / 9062\r"
     ]
    },
    {
     "data": {
      "image/png": "[encoded data removed]",
      "text/plain": [
       "<Figure size 432x288 with 1 Axes>"
      ]
     },
     "metadata": {
      "needs_background": "light"
     },
     "output_type": "display_data"
    },
    {
     "data": {
      "image/png": "[encoded data removed]",
      "text/plain": [
       "<Figure size 432x288 with 1 Axes>"
      ]
     },
     "metadata": {
      "needs_background": "light"
     },
     "output_type": "display_data"
    },
    {
     "name": "stdout",
     "output_type": "stream",
     "text": [
      "(tensor(0.6114), tensor(0.8518), tensor(0.9178))\n",
      "epoch: 4 batch: 85 / 9062\r"
     ]
    },
    {
     "ename": "KeyboardInterrupt",
     "evalue": "",
     "output_type": "error",
     "traceback": [
      "\u001b[1;31m---------------------------------------------------------------------------\u001b[0m",
      "\u001b[1;31mKeyboardInterrupt\u001b[0m                         Traceback (most recent call last)",
      "\u001b[1;32mC:\\Users\\LALASH~1\\AppData\\Local\\Temp/ipykernel_6860/2780835504.py\u001b[0m in \u001b[0;36m<module>\u001b[1;34m\u001b[0m\n\u001b[0;32m     23\u001b[0m \u001b[1;33m\u001b[0m\u001b[0m\n\u001b[0;32m     24\u001b[0m         \u001b[0moptimizer\u001b[0m\u001b[1;33m.\u001b[0m\u001b[0mzero_grad\u001b[0m\u001b[1;33m(\u001b[0m\u001b[1;33m)\u001b[0m\u001b[1;33m\u001b[0m\u001b[1;33m\u001b[0m\u001b[0m\n\u001b[1;32m---> 25\u001b[1;33m         \u001b[0moptimizer_clip\u001b[0m\u001b[1;33m.\u001b[0m\u001b[0mzero_grad\u001b[0m\u001b[1;33m(\u001b[0m\u001b[1;33m)\u001b[0m\u001b[1;33m\u001b[0m\u001b[1;33m\u001b[0m\u001b[0m\n\u001b[0m\u001b[0;32m     26\u001b[0m         \u001b[0mims\u001b[0m\u001b[1;33m,\u001b[0m \u001b[0mtokenized_caps\u001b[0m \u001b[1;33m=\u001b[0m \u001b[0mbatch\u001b[0m\u001b[1;33m\u001b[0m\u001b[1;33m\u001b[0m\u001b[0m\n\u001b[0;32m     27\u001b[0m         \u001b[1;31m# encode images\u001b[0m\u001b[1;33m\u001b[0m\u001b[1;33m\u001b[0m\u001b[1;33m\u001b[0m\u001b[0m\n",
      "\u001b[1;32mc:\\python\\lib\\site-packages\\torch\\optim\\optimizer.py\u001b[0m in \u001b[0;36mzero_grad\u001b[1;34m(self, set_to_none)\u001b[0m\n\u001b[0;32m    247\u001b[0m                                 \u001b[0mp\u001b[0m\u001b[1;33m.\u001b[0m\u001b[0mgrad\u001b[0m\u001b[1;33m.\u001b[0m\u001b[0mrequires_grad_\u001b[0m\u001b[1;33m(\u001b[0m\u001b[1;32mFalse\u001b[0m\u001b[1;33m)\u001b[0m\u001b[1;33m\u001b[0m\u001b[1;33m\u001b[0m\u001b[0m\n\u001b[0;32m    248\u001b[0m                             \u001b[1;32mif\u001b[0m \u001b[1;33m(\u001b[0m\u001b[1;32mnot\u001b[0m \u001b[0mforeach\u001b[0m \u001b[1;32mor\u001b[0m \u001b[0mp\u001b[0m\u001b[1;33m.\u001b[0m\u001b[0mgrad\u001b[0m\u001b[1;33m.\u001b[0m\u001b[0mis_sparse\u001b[0m\u001b[1;33m)\u001b[0m\u001b[1;33m:\u001b[0m\u001b[1;33m\u001b[0m\u001b[1;33m\u001b[0m\u001b[0m\n\u001b[1;32m--> 249\u001b[1;33m                                 \u001b[0mp\u001b[0m\u001b[1;33m.\u001b[0m\u001b[0mgrad\u001b[0m\u001b[1;33m.\u001b[0m\u001b[0mzero_\u001b[0m\u001b[1;33m(\u001b[0m\u001b[1;33m)\u001b[0m\u001b[1;33m\u001b[0m\u001b[1;33m\u001b[0m\u001b[0m\n\u001b[0m\u001b[0;32m    250\u001b[0m                             \u001b[1;32melse\u001b[0m\u001b[1;33m:\u001b[0m\u001b[1;33m\u001b[0m\u001b[1;33m\u001b[0m\u001b[0m\n\u001b[0;32m    251\u001b[0m                                 \u001b[0mper_device_and_dtype_grads\u001b[0m\u001b[1;33m[\u001b[0m\u001b[0mp\u001b[0m\u001b[1;33m.\u001b[0m\u001b[0mgrad\u001b[0m\u001b[1;33m.\u001b[0m\u001b[0mdevice\u001b[0m\u001b[1;33m]\u001b[0m\u001b[1;33m[\u001b[0m\u001b[0mp\u001b[0m\u001b[1;33m.\u001b[0m\u001b[0mgrad\u001b[0m\u001b[1;33m.\u001b[0m\u001b[0mdtype\u001b[0m\u001b[1;33m]\u001b[0m\u001b[1;33m.\u001b[0m\u001b[0mappend\u001b[0m\u001b[1;33m(\u001b[0m\u001b[0mp\u001b[0m\u001b[1;33m.\u001b[0m\u001b[0mgrad\u001b[0m\u001b[1;33m)\u001b[0m\u001b[1;33m\u001b[0m\u001b[1;33m\u001b[0m\u001b[0m\n",
      "\u001b[1;31mKeyboardInterrupt\u001b[0m: "
     ]
    }
   ],
   "source": [
    "loss_img = torch.nn.CrossEntropyLoss()\n",
    "loss_txt = torch.nn.CrossEntropyLoss()\n",
    "params = list(text_encoder.parameters()) + list(image_encoder.parameters())\n",
    "optimizer = torch.optim.Adam(params, lr=1e-3,betas=(0.9,0.98),eps=1e-6,weight_decay=0.001)\n",
    "optimizer_clip = torch.optim.Adam(model.parameters(), lr=1e-7,betas=(0.9,0.98),eps=1e-6,weight_decay=0.001)\n",
    "\n",
    "#optimizer_textclip = torch.optim.Adam(model.text_model.parameters(), lr=1e-7,betas=(0.9,0.98),eps=1e-6,weight_decay=0.001)\n",
    "#optimzer_visionclip = torch.optim.Adam(model.vision_model.parameters(), lr=1e-7,betas=(0.9,0.98),eps=1e-6,weight_decay=0.001)\n",
    "\n",
    "scheduler = torch.optim.lr_scheduler.MultiStepLR(optimizer, milestones=[3,6], gamma=0.1)\n",
    "\n",
    "vocab_size = model.text_model.config.vocab_size\n",
    "epochs = 9\n",
    "totalbatches = int(len(dataset) / batchsize)\n",
    "logit_scale = model.logit_scale.exp().item()\n",
    "losses=[]\n",
    "test_loss=[[rec1],[rec5],[rec10]]\n",
    "for epoch in range(0, epochs):\n",
    "    i = 0\n",
    "    batch_loss = 0\n",
    "    for batch in train_dataloader:\n",
    "        print(\"epoch:\", epoch, \"batch:\", i, \"/\", totalbatches, end='\\r')\n",
    "       \n",
    "        optimizer.zero_grad()\n",
    "        optimizer_clip.zero_grad()\n",
    "        ims, tokenized_caps = batch\n",
    "        # encode images\n",
    "        ims = model.vision_model(ims.to(device)).pooler_output\n",
    "        ims = model.visual_projection(ims)\n",
    "        sparse_ims = image_encoder(ims)\n",
    "\n",
    "        # encode captions\n",
    "        tokenized_caps['input_ids'] = tokenized_caps['input_ids'].squeeze()\n",
    "        tokenized_caps['attention_mask'] = tokenized_caps['attention_mask'].squeeze()\n",
    "\n",
    "        last_hidden_states = model.text_model(**tokenized_caps).last_hidden_state\n",
    "        last_hidden_states = model.text_projection(last_hidden_states)\n",
    "        input_ids = tokenized_caps['input_ids']\n",
    "        attention_masks = tokenized_caps['attention_mask']\n",
    "\n",
    "        sparse_caps = text_encoder(last_hidden_states, input_ids, attention_masks)\n",
    "        \n",
    "        # determine logits\n",
    "        sparse_ims = sparse_ims / sparse_ims.norm(dim=-1, keepdim=True)\n",
    "        sparse_caps = sparse_caps / (sparse_caps + 1e-20).norm(dim=-1, keepdim=True)\n",
    "        logits_per_image = logit_scale * sparse_ims @ sparse_caps.t()\n",
    "        logits_per_text = logits_per_image.t()\n",
    "        \n",
    "        # compute losses\n",
    "        ground_truth = torch.arange(len(ims),dtype=torch.long, device=device)\n",
    "        loss = (loss_img(logits_per_image,ground_truth) + loss_txt(logits_per_text,ground_truth))/2\n",
    "        \n",
    "        batch_loss += loss.item()\n",
    "        loss.backward()\n",
    "        \n",
    "        optimizer.step()\n",
    "        optimizer_clip.step()\n",
    "        i+=1\n",
    "        \n",
    "    scheduler.step()\n",
    "    losses.append(batch_loss)\n",
    "    \n",
    "    recall1,recall5,recall10 = test_sparse_performance(text_encoder, image_encoder, model, test_dataloader)\n",
    "    test_loss[0].append(recall1)\n",
    "    test_loss[1].append(recall5)\n",
    "    test_loss[2].append(recall10)\n",
    "    \n",
    "    plt.plot(losses)\n",
    "    plt.title('CLIP loss')\n",
    "    plt.show()\n",
    "    \n",
    "    plt.plot(test_loss[0])\n",
    "    plt.title('recall@1')\n",
    "    plt.show()\n",
    "    \n",
    "    print(test_CLIP_performance(model, test_dataloader))\n",
    "\n",
    "\"\"\"\n",
    "    torch.save({\n",
    "        'epoch':epoch,\n",
    "        'model_state_dict': sparse_mlm.state_dict(),\n",
    "        'optimizer_state_dict': optimizer.state_dict(),\n",
    "        'loss': total_loss,\n",
    "        }, f\"Models/\" + str(epoch) + \".pt\")\n",
    "\"\"\"      \n",
    "print(\"\")\n",
    "print(\"done\")"
   ]
  },
  {
   "cell_type": "code",
   "execution_count": 28,
   "metadata": {},
   "outputs": [
    {
     "data": {
      "text/plain": [
       "tensor(1.4142)"
      ]
     },
     "execution_count": 28,
     "metadata": {},
     "output_type": "execute_result"
    }
   ],
   "source": [
    "(a-b).pow(2).sum().sqrt()"
   ]
  },
  {
   "cell_type": "code",
   "execution_count": 47,
   "metadata": {},
   "outputs": [
    {
     "name": "stdout",
     "output_type": "stream",
     "text": [
      "epoch: 0 batch: 312 / 312\r"
     ]
    },
    {
     "data": {
      "image/png": "[encoded data removed]",
      "text/plain": [
       "<Figure size 432x288 with 1 Axes>"
      ]
     },
     "metadata": {
      "needs_background": "light"
     },
     "output_type": "display_data"
    },
    {
     "data": {
      "image/png": "[encoded data removed]",
      "text/plain": [
       "<Figure size 432x288 with 1 Axes>"
      ]
     },
     "metadata": {
      "needs_background": "light"
     },
     "output_type": "display_data"
    },
    {
     "name": "stdout",
     "output_type": "stream",
     "text": [
      "(tensor(0.5870), tensor(0.8306), tensor(0.8984))\n",
      "epoch: 1 batch: 58 / 312\r"
     ]
    },
    {
     "ename": "KeyboardInterrupt",
     "evalue": "",
     "output_type": "error",
     "traceback": [
      "\u001b[1;31m---------------------------------------------------------------------------\u001b[0m",
      "\u001b[1;31mKeyboardInterrupt\u001b[0m                         Traceback (most recent call last)",
      "\u001b[1;32mC:\\Users\\LALASH~1\\AppData\\Local\\Temp/ipykernel_11648/2970233036.py\u001b[0m in \u001b[0;36m<module>\u001b[1;34m\u001b[0m\n\u001b[0;32m     50\u001b[0m \u001b[1;33m\u001b[0m\u001b[0m\n\u001b[0;32m     51\u001b[0m         \u001b[0mbatch_loss\u001b[0m \u001b[1;33m+=\u001b[0m \u001b[0mloss\u001b[0m\u001b[1;33m.\u001b[0m\u001b[0mitem\u001b[0m\u001b[1;33m(\u001b[0m\u001b[1;33m)\u001b[0m\u001b[1;33m\u001b[0m\u001b[1;33m\u001b[0m\u001b[0m\n\u001b[1;32m---> 52\u001b[1;33m         \u001b[0mloss\u001b[0m\u001b[1;33m.\u001b[0m\u001b[0mbackward\u001b[0m\u001b[1;33m(\u001b[0m\u001b[1;33m)\u001b[0m\u001b[1;33m\u001b[0m\u001b[1;33m\u001b[0m\u001b[0m\n\u001b[0m\u001b[0;32m     53\u001b[0m \u001b[1;33m\u001b[0m\u001b[0m\n\u001b[0;32m     54\u001b[0m         \u001b[0moptimizer\u001b[0m\u001b[1;33m.\u001b[0m\u001b[0mstep\u001b[0m\u001b[1;33m(\u001b[0m\u001b[1;33m)\u001b[0m\u001b[1;33m\u001b[0m\u001b[1;33m\u001b[0m\u001b[0m\n",
      "\u001b[1;32mc:\\python\\lib\\site-packages\\torch\\_tensor.py\u001b[0m in \u001b[0;36mbackward\u001b[1;34m(self, gradient, retain_graph, create_graph, inputs)\u001b[0m\n\u001b[0;32m    394\u001b[0m                 \u001b[0mcreate_graph\u001b[0m\u001b[1;33m=\u001b[0m\u001b[0mcreate_graph\u001b[0m\u001b[1;33m,\u001b[0m\u001b[1;33m\u001b[0m\u001b[1;33m\u001b[0m\u001b[0m\n\u001b[0;32m    395\u001b[0m                 inputs=inputs)\n\u001b[1;32m--> 396\u001b[1;33m         \u001b[0mtorch\u001b[0m\u001b[1;33m.\u001b[0m\u001b[0mautograd\u001b[0m\u001b[1;33m.\u001b[0m\u001b[0mbackward\u001b[0m\u001b[1;33m(\u001b[0m\u001b[0mself\u001b[0m\u001b[1;33m,\u001b[0m \u001b[0mgradient\u001b[0m\u001b[1;33m,\u001b[0m \u001b[0mretain_graph\u001b[0m\u001b[1;33m,\u001b[0m \u001b[0mcreate_graph\u001b[0m\u001b[1;33m,\u001b[0m \u001b[0minputs\u001b[0m\u001b[1;33m=\u001b[0m\u001b[0minputs\u001b[0m\u001b[1;33m)\u001b[0m\u001b[1;33m\u001b[0m\u001b[1;33m\u001b[0m\u001b[0m\n\u001b[0m\u001b[0;32m    397\u001b[0m \u001b[1;33m\u001b[0m\u001b[0m\n\u001b[0;32m    398\u001b[0m     \u001b[1;32mdef\u001b[0m \u001b[0mregister_hook\u001b[0m\u001b[1;33m(\u001b[0m\u001b[0mself\u001b[0m\u001b[1;33m,\u001b[0m \u001b[0mhook\u001b[0m\u001b[1;33m)\u001b[0m\u001b[1;33m:\u001b[0m\u001b[1;33m\u001b[0m\u001b[1;33m\u001b[0m\u001b[0m\n",
      "\u001b[1;32mc:\\python\\lib\\site-packages\\torch\\autograd\\__init__.py\u001b[0m in \u001b[0;36mbackward\u001b[1;34m(tensors, grad_tensors, retain_graph, create_graph, grad_variables, inputs)\u001b[0m\n\u001b[0;32m    171\u001b[0m     \u001b[1;31m# some Python versions print out the first line of a multi-line function\u001b[0m\u001b[1;33m\u001b[0m\u001b[1;33m\u001b[0m\u001b[1;33m\u001b[0m\u001b[0m\n\u001b[0;32m    172\u001b[0m     \u001b[1;31m# calls in the traceback and some print out the last line\u001b[0m\u001b[1;33m\u001b[0m\u001b[1;33m\u001b[0m\u001b[1;33m\u001b[0m\u001b[0m\n\u001b[1;32m--> 173\u001b[1;33m     Variable._execution_engine.run_backward(  # Calls into the C++ engine to run the backward pass\n\u001b[0m\u001b[0;32m    174\u001b[0m         \u001b[0mtensors\u001b[0m\u001b[1;33m,\u001b[0m \u001b[0mgrad_tensors_\u001b[0m\u001b[1;33m,\u001b[0m \u001b[0mretain_graph\u001b[0m\u001b[1;33m,\u001b[0m \u001b[0mcreate_graph\u001b[0m\u001b[1;33m,\u001b[0m \u001b[0minputs\u001b[0m\u001b[1;33m,\u001b[0m\u001b[1;33m\u001b[0m\u001b[1;33m\u001b[0m\u001b[0m\n\u001b[0;32m    175\u001b[0m         allow_unreachable=True, accumulate_grad=True)  # Calls into the C++ engine to run the backward pass\n",
      "\u001b[1;31mKeyboardInterrupt\u001b[0m: "
     ]
    }
   ],
   "source": [
    "loss_img = torch.nn.CrossEntropyLoss()\n",
    "loss_txt = torch.nn.CrossEntropyLoss()\n",
    "params = list(text_encoder.parameters()) + list(image_encoder.parameters())\n",
    "optimizer = torch.optim.Adam(params, lr=1e-3,betas=(0.9,0.98),eps=1e-6,weight_decay=0.001)\n",
    "optimizer_clip = torch.optim.Adam(model.parameters(), lr=1e-7,betas=(0.9,0.98),eps=1e-6,weight_decay=0.001)\n",
    "\n",
    "#optimizer_textclip = torch.optim.Adam(model.text_model.parameters(), lr=1e-7,betas=(0.9,0.98),eps=1e-6,weight_decay=0.001)\n",
    "#optimzer_visionclip = torch.optim.Adam(model.vision_model.parameters(), lr=1e-7,betas=(0.9,0.98),eps=1e-6,weight_decay=0.001)\n",
    "\n",
    "scheduler = torch.optim.lr_scheduler.MultiStepLR(optimizer, milestones=[3,6], gamma=0.1)\n",
    "\n",
    "vocab_size = model.text_model.config.vocab_size\n",
    "epochs = 9\n",
    "totalbatches = int(len(dataset) / batchsize)\n",
    "logit_scale = model.logit_scale.exp().item()\n",
    "losses=[]\n",
    "test_loss=[[rec1],[rec5],[rec10]]\n",
    "for epoch in range(0, epochs):\n",
    "    i = 0\n",
    "    batch_loss = 0\n",
    "    for batch in train_dataloader:\n",
    "        print(\"epoch:\", epoch, \"batch:\", i, \"/\", totalbatches, end='\\r')\n",
    "       \n",
    "        optimizer.zero_grad()\n",
    "        optimizer_clip.zero_grad()\n",
    "        ims, tokenized_caps = batch\n",
    "        # encode images\n",
    "        ims = model.vision_model(ims.to(device)).pooler_output\n",
    "        ims = model.visual_projection(ims)\n",
    "        sparse_ims = image_encoder(ims)\n",
    "\n",
    "        # encode captions\n",
    "        tokenized_caps['input_ids'] = tokenized_caps['input_ids'].squeeze()\n",
    "        tokenized_caps['attention_mask'] = tokenized_caps['attention_mask'].squeeze()\n",
    "\n",
    "        last_hidden_states = model.text_model(**tokenized_caps).last_hidden_state\n",
    "        last_hidden_states = model.text_projection(last_hidden_states)\n",
    "        input_ids = tokenized_caps['input_ids']\n",
    "        attention_masks = tokenized_caps['attention_mask']\n",
    "\n",
    "        sparse_caps = text_encoder(last_hidden_states, input_ids, attention_masks)\n",
    "        \n",
    "        # determine logits\n",
    "        logits_per_image = logit_scale * torch.cdist(sparse_ims, sparse_caps)\n",
    "        logits_per_text = logits_per_image.t()\n",
    "        \n",
    "        # compute losses\n",
    "        ground_truth = torch.arange(len(ims),dtype=torch.long, device=device)\n",
    "        loss = (loss_img(logits_per_image,ground_truth) + loss_txt(logits_per_text,ground_truth))/2\n",
    "        \n",
    "        batch_loss += loss.item()\n",
    "        loss.backward()\n",
    "        \n",
    "        optimizer.step()\n",
    "        optimizer_clip.step()\n",
    "        i+=1\n",
    "        \n",
    "    scheduler.step()\n",
    "    losses.append(batch_loss)\n",
    "    \n",
    "    recall1,recall5,recall10 = test_sparse_performance(text_encoder, image_encoder, model, test_dataloader)\n",
    "    test_loss[0].append(recall1)\n",
    "    test_loss[1].append(recall5)\n",
    "    test_loss[2].append(recall10)\n",
    "    \n",
    "    plt.plot(losses)\n",
    "    plt.title('CLIP loss')\n",
    "    plt.show()\n",
    "    \n",
    "    plt.plot(test_loss[0])\n",
    "    plt.title('recall@1')\n",
    "    plt.show()\n",
    "    \n",
    "    print(test_CLIP_performance(model, test_dataloader))\n",
    "\n",
    "\"\"\"\n",
    "    torch.save({\n",
    "        'epoch':epoch,\n",
    "        'model_state_dict': sparse_mlm.state_dict(),\n",
    "        'optimizer_state_dict': optimizer.state_dict(),\n",
    "        'loss': total_loss,\n",
    "        }, f\"Models/\" + str(epoch) + \".pt\")\n",
    "\"\"\"      \n",
    "print(\"\")\n",
    "print(\"done\")"
   ]
  },
  {
   "cell_type": "code",
   "execution_count": 19,
   "metadata": {},
   "outputs": [
    {
     "data": {
      "text/plain": [
       "(tensor(0.5882), tensor(0.8344), tensor(0.9008))"
      ]
     },
     "execution_count": 19,
     "metadata": {},
     "output_type": "execute_result"
    }
   ],
   "source": [
    "test_CLIP_performance(model, test_dataloader)"
   ]
  },
  {
   "cell_type": "code",
   "execution_count": 20,
   "metadata": {},
   "outputs": [
    {
     "data": {
      "text/plain": [
       "[9239.434705384076,\n",
       " 3752.97773578763,\n",
       " 3280.193608675152,\n",
       " 2043.1577748793643,\n",
       " 1455.841448839521,\n",
       " 1231.7298746576998,\n",
       " 930.8695133877045,\n",
       " 802.0615859101235,\n",
       " 715.2663214061758]"
      ]
     },
     "execution_count": 20,
     "metadata": {},
     "output_type": "execute_result"
    }
   ],
   "source": [
    "losses"
   ]
  },
  {
   "cell_type": "code",
   "execution_count": 21,
   "metadata": {},
   "outputs": [
    {
     "data": {
      "text/plain": [
       "[[tensor(0.0016),\n",
       "  tensor(0.3374),\n",
       "  tensor(0.3664),\n",
       "  tensor(0.3818),\n",
       "  tensor(0.4496),\n",
       "  tensor(0.4590),\n",
       "  tensor(0.4616),\n",
       "  tensor(0.4736),\n",
       "  tensor(0.4708),\n",
       "  tensor(0.4698)],\n",
       " [tensor(0.0070),\n",
       "  tensor(0.6274),\n",
       "  tensor(0.6620),\n",
       "  tensor(0.6742),\n",
       "  tensor(0.7476),\n",
       "  tensor(0.7582),\n",
       "  tensor(0.7524),\n",
       "  tensor(0.7602),\n",
       "  tensor(0.7588),\n",
       "  tensor(0.7598)],\n",
       " [tensor(0.0122),\n",
       "  tensor(0.7378),\n",
       "  tensor(0.7654),\n",
       "  tensor(0.7706),\n",
       "  tensor(0.8334),\n",
       "  tensor(0.8380),\n",
       "  tensor(0.8356),\n",
       "  tensor(0.8442),\n",
       "  tensor(0.8476),\n",
       "  tensor(0.8456)]]"
      ]
     },
     "execution_count": 21,
     "metadata": {},
     "output_type": "execute_result"
    }
   ],
   "source": [
    "test_loss"
   ]
  },
  {
   "cell_type": "code",
   "execution_count": 23,
   "metadata": {},
   "outputs": [
    {
     "data": {
      "image/png": "[encoded data removed]",
      "text/plain": [
       "<Figure size 432x288 with 1 Axes>"
      ]
     },
     "metadata": {
      "needs_background": "light"
     },
     "output_type": "display_data"
    }
   ],
   "source": [
    "plt.plot(test_loss[0])\n",
    "plt.title('CLIP loss')\n",
    "plt.show()"
   ]
  },
  {
   "cell_type": "code",
   "execution_count": 28,
   "metadata": {},
   "outputs": [],
   "source": [
    "torch.save({\n",
    "    'epoch':epoch,\n",
    "    'model_state_dict': model.state_dict(),\n",
    "    'optimizer_state_dict': optimizer.state_dict(),\n",
    "    'loss': loss,\n",
    "    }, f\"Models/\" + \"model\" + \".pt\")"
   ]
  },
  {
   "cell_type": "code",
   "execution_count": null,
   "metadata": {},
   "outputs": [],
   "source": []
  },
  {
   "cell_type": "code",
   "execution_count": 22,
   "metadata": {},
   "outputs": [
    {
     "data": {
      "image/png": "[encoded data removed]",
      "text/plain": [
       "<Figure size 432x288 with 2 Axes>"
      ]
     },
     "metadata": {
      "needs_background": "light"
     },
     "output_type": "display_data"
    }
   ],
   "source": [
    "fig, ax = plt.subplots()\n",
    "\n",
    "ax.plot(test_loss[0][1:], color='red')\n",
    "ax.tick_params(axis='y', labelcolor='red')\n",
    "\n",
    "ax2 = ax.twinx()\n",
    "ax2.plot(losses, color='blue')\n",
    "ax2.tick_params(axis='y', labelcolor='blue')\n",
    "\n",
    "plt.show()"
   ]
  },
  {
   "cell_type": "code",
   "execution_count": 20,
   "metadata": {},
   "outputs": [
    {
     "data": {
      "image/png": "[encoded data removed]",
      "text/plain": [
       "<Figure size 432x288 with 2 Axes>"
      ]
     },
     "metadata": {
      "needs_background": "light"
     },
     "output_type": "display_data"
    }
   ],
   "source": [
    "# forgot zero_grad\n",
    "fig, ax = plt.subplots()\n",
    "\n",
    "ax.plot(test_loss[0][1:], color='red')\n",
    "ax.tick_params(axis='y', labelcolor='red')\n",
    "\n",
    "ax2 = ax.twinx()\n",
    "ax2.plot(losses, color='blue')\n",
    "ax2.tick_params(axis='y', labelcolor='blue')\n",
    "\n",
    "plt.show()"
   ]
  },
  {
   "cell_type": "code",
   "execution_count": null,
   "metadata": {},
   "outputs": [],
   "source": [
    "torch.save({\n",
    "    'epoch':epoch,\n",
    "    'model_state_dict': text_encoder.state_dict(),\n",
    "    'optimizer_state_dict': optimizer.state_dict(),\n",
    "    'loss': loss,\n",
    "    }, f\"Models/\" + \"text_encoder\" + \".pt\")"
   ]
  },
  {
   "cell_type": "code",
   "execution_count": null,
   "metadata": {},
   "outputs": [],
   "source": [
    "torch.save({\n",
    "    'epoch':epoch,\n",
    "    'model_state_dict': image_encoder.state_dict(),\n",
    "    'optimizer_state_dict': optimizer.state_dict(),\n",
    "    'loss': loss,\n",
    "    }, f\"Models/\" + \"image_encoder\" + \".pt\")"
   ]
  },
  {
   "cell_type": "code",
   "execution_count": null,
   "metadata": {},
   "outputs": [],
   "source": [
    "torch.save({\n",
    "    'epoch':epoch,\n",
    "    'model_state_dict': model.state_dict(),\n",
    "    'optimizer_state_dict': optimizer_CLIP.state_dict(),\n",
    "    'loss': loss,\n",
    "    }, f\"Models/\" + \"model\" + \".pt\")"
   ]
  },
  {
   "cell_type": "code",
   "execution_count": null,
   "metadata": {},
   "outputs": [],
   "source": [
    "sparse_encoding = image_encoder(test_images[0])"
   ]
  },
  {
   "cell_type": "code",
   "execution_count": null,
   "metadata": {},
   "outputs": [],
   "source": [
    "plt.hist(sparse_encoding.cpu().detach().numpy(), bins=30)\n",
    "plt.show()\n",
    "\n",
    "l1_regularization = torch.norm(sparse_encoding, 1)\n",
    "print(l1_regularization)"
   ]
  },
  {
   "cell_type": "code",
   "execution_count": 85,
   "metadata": {},
   "outputs": [
    {
     "data": {
      "text/plain": [
       "tensor([ 3801,  1375, 49406,  6116,   786,  2149, 12906,  4287,  3938, 11869,\n",
       "        11692,  1121, 13293,  9812,   900, 12123, 11444,  2568,  3889,  2801],\n",
       "       device='cuda:0')"
      ]
     },
     "execution_count": 85,
     "metadata": {},
     "output_type": "execute_result"
    }
   ],
   "source": [
    "torch.topk(sparse_encoding, 20).indices[0:20]"
   ]
  },
  {
   "cell_type": "code",
   "execution_count": 20,
   "metadata": {},
   "outputs": [
    {
     "data": {
      "text/plain": [
       "(tensor([0.0000e+00, 9.6690e-43, 6.2358e-42,  ..., 6.0891e-01, 6.7876e-01,\n",
       "         8.8476e-01], device='cuda:0', grad_fn=<Unique2Backward0>),\n",
       " tensor([47638,     1,     1,  ...,     1,     1,     1], device='cuda:0'))"
      ]
     },
     "execution_count": 20,
     "metadata": {},
     "output_type": "execute_result"
    }
   ],
   "source": [
    "sparse_encoding.unique(return_counts=True)"
   ]
  },
  {
   "cell_type": "code",
   "execution_count": 21,
   "metadata": {},
   "outputs": [
    {
     "data": {
      "text/plain": [
       "(tensor([False,  True], device='cuda:0'),\n",
       " tensor([49370,    38], device='cuda:0'))"
      ]
     },
     "execution_count": 21,
     "metadata": {},
     "output_type": "execute_result"
    }
   ],
   "source": [
    "(sparse_encoding > 0.3).unique(return_counts=True)"
   ]
  },
  {
   "cell_type": "code",
   "execution_count": 53,
   "metadata": {},
   "outputs": [
    {
     "data": {
      "text/plain": [
       "'datasets/flickr30k/test/1007129816.jpg'"
      ]
     },
     "execution_count": 53,
     "metadata": {},
     "output_type": "execute_result"
    }
   ],
   "source": [
    "test_files[0]"
   ]
  },
  {
   "cell_type": "code",
   "execution_count": null,
   "metadata": {},
   "outputs": [],
   "source": [
    "#test set:"
   ]
  },
  {
   "cell_type": "code",
   "execution_count": 26,
   "metadata": {},
   "outputs": [
    {
     "name": "stdout",
     "output_type": "stream",
     "text": [
      "tensor(0.4914)\n",
      "tensor(0.7606)\n",
      "tensor(0.8418)\n"
     ]
    }
   ],
   "source": [
    "#after training\n",
    "rec1,rec5,rec10 = test_sparse_performance(text_encoder, image_encoder, test_images, test_features, test_ids, test_masks)\n",
    "\n",
    "print(rec1)\n",
    "print(rec5)\n",
    "print(rec10)"
   ]
  }
 ],
 "metadata": {
  "kernelspec": {
   "display_name": "Python 3 (ipykernel)",
   "language": "python",
   "name": "python3"
  },
  "language_info": {
   "codemirror_mode": {
    "name": "ipython",
    "version": 3
   },
   "file_extension": ".py",
   "mimetype": "text/x-python",
   "name": "python",
   "nbconvert_exporter": "python",
   "pygments_lexer": "ipython3",
   "version": "3.8.2"
  }
 },
 "nbformat": 4,
 "nbformat_minor": 4
}
