{
 "cells": [
  {
   "cell_type": "code",
   "execution_count": 28,
   "metadata": {},
   "outputs": [],
   "source": [
    "#imports\n",
    "import torch\n",
    "import clip\n",
    "from PIL import Image\n",
    "import json\n",
    "import glob\n",
    "import matplotlib.pyplot as plt\n",
    "import math"
   ]
  },
  {
   "cell_type": "code",
   "execution_count": 2,
   "metadata": {},
   "outputs": [],
   "source": [
    "#load CLIP model\n",
    "device = \"cuda\" if torch.cuda.is_available() else \"cpu\"\n",
    "model, preprocess = clip.load(\"ViT-B/32\", device=device)"
   ]
  },
  {
   "cell_type": "code",
   "execution_count": 3,
   "metadata": {},
   "outputs": [],
   "source": [
    "#open the json file for annotations\n",
    "f = open('datasets/flickr30k/dataset_flickr30k.json')\n",
    "data = json.load(f)"
   ]
  },
  {
   "cell_type": "code",
   "execution_count": 4,
   "metadata": {},
   "outputs": [],
   "source": [
    "caps = [x['sentences'] for x in data['images'] if x.get('split') == 'test']\n",
    "\n",
    "caption_ids = []\n",
    "for x in data['images']:\n",
    "    if x.get('split') == 'test':\n",
    "        for i in range(len(x.get('sentences'))):\n",
    "            caption_ids.append(int(x['filename'][:-4]))\n",
    "            \n",
    "captions = []\n",
    "for x in caps:\n",
    "    for y in x:\n",
    "        captions.append(y)\n",
    "    \n",
    "captions = [x.get('raw') for x in captions]\n",
    "\n",
    "# 1 caption is too long, this shortens it to prevent errors\n",
    "string = 'Two boys are looking upwards with their arms streteched to the sky, the boy on the left is wearing a blue vest jacket with a gray shirt, black jogging pants and a hat, and the boy on the right is wearing a silver vest jacket, with blue long-sleeved undershirt, gray pants, black tennis shoes and has black short hair and glasses.'\n",
    "captions[3905] = string"
   ]
  },
  {
   "cell_type": "code",
   "execution_count": 5,
   "metadata": {},
   "outputs": [
    {
     "name": "stdout",
     "output_type": "stream",
     "text": [
      "1000 /1000\r"
     ]
    }
   ],
   "source": [
    "# load images\n",
    "images = []\n",
    "image_ids = []\n",
    "i = 0\n",
    "for filename in glob.glob('datasets/flickr30k/test/*.jpg'):\n",
    "    image_ids.append(int(filename[24:-4]))\n",
    "    im=preprocess(Image.open(filename))\n",
    "    images.append(im)\n",
    "    i+=1\n",
    "    if (i%250) == 0:\n",
    "        print(i,\"/1000\", end='\\r')\n",
    "        \n",
    "image_ids = torch.Tensor(image_ids)"
   ]
  },
  {
   "cell_type": "code",
   "execution_count": 14,
   "metadata": {},
   "outputs": [
    {
     "name": "stdout",
     "output_type": "stream",
     "text": [
      "testing epoch: 0\n",
      "1000 / 1000\n",
      "5000 / 5000\n",
      "testing epoch: 1\n",
      "1000 / 1000/ 1000\n",
      "5000 / 5000\n",
      "testing epoch: 2\n",
      "1000 / 1000/ 1000\n",
      "5000 / 5000\n",
      "testing epoch: 3\n",
      "1000 / 1000/ 1000\n",
      "5000 / 5000\n",
      "testing epoch: 4\n",
      "1000 / 1000\n",
      "5000 / 5000\n",
      "testing epoch: 5\n",
      "1000 / 1000\n",
      "5000 / 5000\n",
      "testing epoch: 6\n",
      "1000 / 1000\n",
      "5000 / 5000\n",
      "testing epoch: 7\n",
      "1000 / 1000\n",
      "5000 / 5000\n",
      "testing epoch: 8\n",
      "1000 / 1000/ 1000\n",
      "5000 / 5000\n",
      "testing epoch: 9\n",
      "1000 / 1000\n",
      "5000 / 5000\n",
      "testing epoch: 10\n",
      "1000 / 1000/ 1000\n",
      "5000 / 5000\n",
      "testing epoch: 11\n",
      "1000 / 1000/ 1000 / 1000\n",
      "5000 / 5000\n",
      "testing epoch: 12\n",
      "1000 / 1000\n",
      "5000 / 5000\n",
      "testing epoch: 13\n",
      "1000 / 1000\n",
      "5000 / 5000\n",
      "testing epoch: 14\n",
      "1000 / 1000\n",
      "5000 / 5000\n",
      "testing epoch: 15\n",
      "1000 / 1000/ 1000\n",
      "5000 / 5000\n",
      "testing epoch: 16\n",
      "1000 / 1000\n",
      "5000 / 5000\n",
      "testing epoch: 17\n",
      "1000 / 1000\n",
      "5000 / 5000\n",
      "testing epoch: 18\n",
      "1000 / 1000/ 1000\n",
      "5000 / 5000\n",
      "testing epoch: 19\n",
      "1000 / 1000\n",
      "5000 / 5000\n",
      "testing epoch: 20\n",
      "1000 / 1000\n",
      "5000 / 5000\n",
      "testing epoch: 21\n",
      "1000 / 1000\n",
      "5000 / 5000\n",
      "testing epoch: 22\n",
      "1000 / 1000\n",
      "5000 / 5000\n",
      "testing epoch: 23\n",
      "1000 / 1000/ 1000\n",
      "5000 / 5000\n",
      "testing epoch: 24\n",
      "1000 / 1000/ 1000\n",
      "5000 / 5000\n",
      "testing epoch: 25\n",
      "1000 / 1000\n",
      "5000 / 5000\n",
      "testing epoch: 26\n",
      "1000 / 1000\n",
      "5000 / 5000\n",
      "testing epoch: 27\n",
      "1000 / 1000/ 1000\n",
      "5000 / 5000\n",
      "testing epoch: 28\n",
      "1000 / 1000\n",
      "5000 / 5000\n",
      "testing epoch: 29\n",
      "1000 / 1000\n",
      "5000 / 5000\n",
      "testing epoch: 30\n",
      "1000 / 1000\n",
      "5000 / 5000\n",
      "testing epoch: 31\n",
      "1000 / 1000/ 1000\n",
      "5000 / 5000\n",
      "testing epoch: 32\n",
      "1000 / 1000/ 1000\n",
      "5000 / 5000\n",
      "testing epoch: 33\n",
      "1000 / 1000/ 1000\n",
      "5000 / 5000\n",
      "testing epoch: 34\n",
      "1000 / 1000\n",
      "5000 / 5000\n",
      "testing epoch: 35\n",
      "1000 / 1000/ 1000\n",
      "5000 / 5000\n",
      "testing epoch: 36\n",
      "1000 / 1000\n",
      "5000 / 5000\n",
      "testing epoch: 37\n",
      "1000 / 1000/ 1000\n",
      "5000 / 5000\n",
      "testing epoch: 38\n",
      "1000 / 1000\n",
      "5000 / 5000\n",
      "testing epoch: 39\n",
      "1000 / 1000\n",
      "5000 / 5000\n",
      "testing epoch: 40\n",
      "1000 / 1000/ 1000\n",
      "5000 / 5000\n",
      "testing epoch: 41\n",
      "1000 / 1000/ 1000\n",
      "5000 / 5000\n",
      "testing epoch: 42\n",
      "1000 / 1000\n",
      "5000 / 5000\n",
      "testing epoch: 43\n",
      "1000 / 1000\n",
      "5000 / 5000\n",
      "testing epoch: 44\n",
      "1000 / 1000/ 1000\n",
      "5000 / 5000\n",
      "testing epoch: 45\n",
      "1000 / 1000\n",
      "5000 / 5000\n"
     ]
    }
   ],
   "source": [
    "image_RA1 = []\n",
    "image_RA5 = []\n",
    "image_RA10 = []\n",
    "text_RA1 = []\n",
    "text_RA5 = []\n",
    "text_RA10 = []\n",
    "for epoch in range(46):\n",
    "    print(\"testing epoch:\", epoch)\n",
    "    checkpoint = torch.load(\"Models/\"+str(epoch)+\".pt\")\n",
    "    model.load_state_dict(checkpoint['model_state_dict'])\n",
    "    \n",
    "    #encode images\n",
    "    test_images = torch.Tensor().to(device)\n",
    "    with torch.no_grad():\n",
    "        print(\"0 /\",len(images), end='\\r')\n",
    "        for i in range(0, len(images), 64):\n",
    "            ims=model.encode_image(torch.stack(images[i:i+64]).to(device))\n",
    "            test_images = torch.cat((test_images, ims), 0)\n",
    "            if (i%128) == 0:\n",
    "                print(i,\"/\",len(images), end='\\r')\n",
    "\n",
    "        print(\"1000 /\",len(images), end='\\r')\n",
    "\n",
    "    test_images /= test_images.norm(dim=-1, keepdim=True)\n",
    "    encoded_images = test_images\n",
    "    print(\"\")\n",
    "\n",
    "    # encode captions\n",
    "    text = clip.tokenize(captions).to(device)\n",
    "    test_captions = torch.Tensor().to(device)\n",
    "    with torch.no_grad():\n",
    "        print(\"0 / 5000\", end='\\r')\n",
    "        for i in range(0, len(text), 128):\n",
    "            ts = model.encode_text(text[i:i+128])\n",
    "            test_captions = torch.cat((test_captions, ts), 0)\n",
    "            if (i%512) == 0:\n",
    "                print(i,\"/\",len(text), end='\\r')\n",
    "\n",
    "        print(\"5000 / 5000\", end='\\r')\n",
    "\n",
    "    text_features = test_captions\n",
    "    text_features /= text_features.norm(dim=-1, keepdim=True)\n",
    "    encoded_captions = list(zip(caption_ids, text_features))\n",
    "    \n",
    "    # get recall scores for current model(/epoch) (text to image)\n",
    "    recall_1 = []\n",
    "    recall_5 = []\n",
    "    recall_10 = []\n",
    "    for image_id, text_feature in encoded_captions: \n",
    "        similarity = (100.0 * text_feature @ encoded_images.T).softmax(dim=-1)\n",
    "        \n",
    "        values, indices = similarity.topk(1)\n",
    "        recall_1.append(image_id in image_ids[indices])\n",
    "        \n",
    "        values, indices = similarity.topk(5)\n",
    "        recall_5.append(image_id in image_ids[indices])\n",
    "    \n",
    "        values, indices = similarity.topk(10)\n",
    "        recall_10.append(image_id in image_ids[indices])\n",
    "\n",
    "    recall_1 = torch.Tensor(recall_1)\n",
    "    image_RA1.append(recall_1.mean())\n",
    "    \n",
    "    recall_5 = torch.Tensor(recall_5)\n",
    "    image_RA5.append(recall_5.mean())\n",
    "    \n",
    "    recall_10 = torch.Tensor(recall_10)\n",
    "    image_RA10.append(recall_10.mean())\n",
    "\n",
    "    # get recall scores for current model(/epoch) (image to text)\n",
    "    recall_1 = []\n",
    "    recall_5 = []\n",
    "    recall_10 = []\n",
    "    for i, image in enumerate(encoded_images): \n",
    "        similarity = (100.0 * image @ text_features.T).softmax(dim=-1)\n",
    "        \n",
    "        values, indices = similarity.topk(1)\n",
    "        im_ids = []\n",
    "        for indice in indices:\n",
    "            im_ids.append(caption_ids[indice])\n",
    "        recall_1.append(image_ids[i] in im_ids)\n",
    "        \n",
    "        values, indices = similarity.topk(5)\n",
    "        im_ids = []\n",
    "        for indice in indices:\n",
    "            im_ids.append(caption_ids[indice])\n",
    "        recall_5.append(image_ids[i] in im_ids)\n",
    "        \n",
    "        values, indices = similarity.topk(10)\n",
    "        im_ids = []\n",
    "        for indice in indices:\n",
    "            im_ids.append(caption_ids[indice])\n",
    "        recall_10.append(image_ids[i] in im_ids)\n",
    "\n",
    "    recall_1 = torch.Tensor(recall_1)\n",
    "    text_RA1.append(recall_1.mean())\n",
    "    \n",
    "    recall_5 = torch.Tensor(recall_5)\n",
    "    text_RA5.append(recall_5.mean())\n",
    "    \n",
    "    recall_10 = torch.Tensor(recall_10)\n",
    "    text_RA10.append(recall_10.mean())\n",
    "    print(\"\")"
   ]
  },
  {
   "cell_type": "code",
   "execution_count": 42,
   "metadata": {},
   "outputs": [
    {
     "name": "stdout",
     "output_type": "stream",
     "text": [
      "R@1 img retrieval: ['0.6026', '0.6254', '0.6358', '0.6424', '0.6488', '0.6524', '0.6558', '0.6588', '0.6628', '0.6656']\n",
      "R@5 img retrieval: ['0.8438', '0.8630', '0.8710', '0.8750', '0.8768', '0.8802', '0.8810', '0.8828', '0.8842', '0.8856']\n",
      "R@10 img retrieval: ['0.9070', '0.9204', '0.9262', '0.9292', '0.9314', '0.9318', '0.9332', '0.9344', '0.9366', '0.9368']\n",
      "R@1 txt retrieval: ['0.7980', '0.8080', '0.8160', '0.8210', '0.8270', '0.8320', '0.8310', '0.8350', '0.8350', '0.8350']\n",
      "R@5 txt retrieval: ['0.9560', '0.9650', '0.9680', '0.9710', '0.9720', '0.9710', '0.9710', '0.9720', '0.9720', '0.9740']\n",
      "R@10 txt retrieval: ['0.9870', '0.9880', '0.9900', '0.9910', '0.9900', '0.9890', '0.9900', '0.9920', '0.9920', '0.9920']\n"
     ]
    }
   ],
   "source": [
    "indexes = [0,5,10,15,20,25,30,35,40,45]\n",
    "print(\"R@1 img retrieval:\", [\"%.4f\" % image_RA1[idx].item() for idx in indexes])\n",
    "print(\"R@5 img retrieval:\", [\"%.4f\" % image_RA5[idx].item() for idx in indexes])\n",
    "print(\"R@10 img retrieval:\", [\"%.4f\" % image_RA10[idx].item() for idx in indexes])\n",
    "print(\"R@1 txt retrieval:\", [\"%.4f\" % text_RA1[idx].item() for idx in indexes])\n",
    "print(\"R@5 txt retrieval:\", [\"%.4f\" % text_RA5[idx].item() for idx in indexes])\n",
    "print(\"R@10 txt retrieval:\", [\"%.4f\" % text_RA10[idx].item() for idx in indexes])"
   ]
  },
  {
   "cell_type": "code",
   "execution_count": 16,
   "metadata": {},
   "outputs": [
    {
     "data": {
      "image/png": "[encoded data removed]",
      "text/plain": [
       "<Figure size 432x288 with 1 Axes>"
      ]
     },
     "metadata": {
      "needs_background": "light"
     },
     "output_type": "display_data"
    }
   ],
   "source": [
    "plt.plot(image_RA1)\n",
    "plt.title(\"recall@1, image retrieval\")\n",
    "plt.xlabel('epochs')\n",
    "plt.ylabel('R@1')\n",
    "plt.show()"
   ]
  },
  {
   "cell_type": "code",
   "execution_count": 18,
   "metadata": {},
   "outputs": [
    {
     "data": {
      "image/png": "[encoded data removed]",
      "text/plain": [
       "<Figure size 432x288 with 1 Axes>"
      ]
     },
     "metadata": {
      "needs_background": "light"
     },
     "output_type": "display_data"
    }
   ],
   "source": [
    "plt.plot(image_RA5)\n",
    "plt.title(\"recall@5, image retrieval\")\n",
    "plt.xlabel('epochs')\n",
    "plt.ylabel('R@5')\n",
    "plt.show()"
   ]
  },
  {
   "cell_type": "code",
   "execution_count": 19,
   "metadata": {},
   "outputs": [
    {
     "data": {
      "image/png": "[encoded data removed]",
      "text/plain": [
       "<Figure size 432x288 with 1 Axes>"
      ]
     },
     "metadata": {
      "needs_background": "light"
     },
     "output_type": "display_data"
    }
   ],
   "source": [
    "plt.plot(image_RA10)\n",
    "plt.title(\"recall@10, image retrieval\")\n",
    "plt.xlabel('epochs')\n",
    "plt.ylabel('R@10')\n",
    "plt.show()"
   ]
  },
  {
   "cell_type": "code",
   "execution_count": 20,
   "metadata": {},
   "outputs": [
    {
     "data": {
      "image/png": "[encoded data removed]",
      "text/plain": [
       "<Figure size 432x288 with 1 Axes>"
      ]
     },
     "metadata": {
      "needs_background": "light"
     },
     "output_type": "display_data"
    }
   ],
   "source": [
    "plt.plot(text_RA1)\n",
    "plt.title(\"recall@1, text retrieval\")\n",
    "plt.xlabel('epochs')\n",
    "plt.ylabel('R@1')\n",
    "plt.show()"
   ]
  },
  {
   "cell_type": "code",
   "execution_count": 21,
   "metadata": {},
   "outputs": [
    {
     "data": {
      "image/png": "[encoded data removed]",
      "text/plain": [
       "<Figure size 432x288 with 1 Axes>"
      ]
     },
     "metadata": {
      "needs_background": "light"
     },
     "output_type": "display_data"
    }
   ],
   "source": [
    "plt.plot(text_RA5)\n",
    "plt.title(\"recall@5, text retrieval\")\n",
    "plt.xlabel('epochs')\n",
    "plt.ylabel('R@5')\n",
    "plt.show()"
   ]
  },
  {
   "cell_type": "code",
   "execution_count": 22,
   "metadata": {},
   "outputs": [
    {
     "data": {
      "image/png": "[encoded data removed]",
      "text/plain": [
       "<Figure size 432x288 with 1 Axes>"
      ]
     },
     "metadata": {
      "needs_background": "light"
     },
     "output_type": "display_data"
    }
   ],
   "source": [
    "plt.plot(text_RA10)\n",
    "plt.title(\"recall@10, text retrieval\")\n",
    "plt.xlabel('epochs')\n",
    "plt.ylabel('R@10')\n",
    "plt.show()"
   ]
  },
  {
   "cell_type": "code",
   "execution_count": 6,
   "metadata": {},
   "outputs": [
    {
     "name": "stdout",
     "output_type": "stream",
     "text": [
      "1000 / 1000000\n",
      "done\n"
     ]
    }
   ],
   "source": [
    "test_images = torch.Tensor().to(device)\n",
    "with torch.no_grad():\n",
    "    for i in range(0, len(images), 64):\n",
    "        ims=model.encode_image(torch.stack(images[i:i+64]).to(device))\n",
    "        test_images = torch.cat((test_images, ims), 0)\n",
    "        if (i%128) == 0:\n",
    "            print(i,\"/\",len(images), end='\\r')\n",
    "            \n",
    "    print(\"1000 /\",len(images), end='\\r')\n",
    "            \n",
    "test_images /= test_images.norm(dim=-1, keepdim=True)\n",
    "encoded_images = test_images\n",
    "print(\"\")\n",
    "print(\"done\")"
   ]
  },
  {
   "cell_type": "code",
   "execution_count": 16,
   "metadata": {},
   "outputs": [
    {
     "name": "stdout",
     "output_type": "stream",
     "text": [
      "5000 / 5000\n",
      "done\n"
     ]
    }
   ],
   "source": [
    "text = clip.tokenize(captions).to(device)\n",
    "\n",
    "# encode captions\n",
    "test_captions = torch.Tensor().to(device)\n",
    "with torch.no_grad():\n",
    "    for i in range(0, len(text), 128):\n",
    "        ts = model.encode_text(text[i:i+128])\n",
    "        test_captions = torch.cat((test_captions, ts), 0)\n",
    "        if (i%512) == 0:\n",
    "            print(i,\"/\",len(text), end='\\r')\n",
    "        \n",
    "    print(\"5000 / 5000\", end='\\r')\n",
    "\n",
    "text_features = test_captions\n",
    "text_features /= text_features.norm(dim=-1, keepdim=True)\n",
    "\n",
    "print(\"\")\n",
    "print(\"done\")"
   ]
  }
 ],
 "metadata": {
  "kernelspec": {
   "display_name": "Python 3 (ipykernel)",
   "language": "python",
   "name": "python3"
  },
  "language_info": {
   "codemirror_mode": {
    "name": "ipython",
    "version": 3
   },
   "file_extension": ".py",
   "mimetype": "text/x-python",
   "name": "python",
   "nbconvert_exporter": "python",
   "pygments_lexer": "ipython3",
   "version": "3.8.2"
  }
 },
 "nbformat": 4,
 "nbformat_minor": 4
}
