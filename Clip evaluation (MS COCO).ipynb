{
 "cells": [
  {
   "cell_type": "code",
   "execution_count": 1,
   "metadata": {},
   "outputs": [],
   "source": [
    "#imports\n",
    "import torch\n",
    "import clip\n",
    "from PIL import Image\n",
    "import json\n",
    "import glob"
   ]
  },
  {
   "cell_type": "code",
   "execution_count": 2,
   "metadata": {},
   "outputs": [],
   "source": [
    "#load CLIP model\n",
    "device = \"cuda\" if torch.cuda.is_available() else \"cpu\"\n",
    "model, preprocess = clip.load(\"ViT-B/32\", device=device)"
   ]
  },
  {
   "cell_type": "code",
   "execution_count": 4,
   "metadata": {},
   "outputs": [],
   "source": [
    "#open the json file for annotations\n",
    "f = open('datasets/MSCOCO/annotations/captions_val2017.json')\n",
    "data = json.load(f)"
   ]
  },
  {
   "cell_type": "code",
   "execution_count": 97,
   "metadata": {},
   "outputs": [],
   "source": [
    "# get image ids, captions and captions ids in lists\n",
    "image_ids = [x.get('id') for x in data['images']]\n",
    "image_ids.sort()\n",
    "\n",
    "captions = [x.get('caption') for x in data['annotations'] if x.get('image_id') in image_ids]\n",
    "caption_ids = [x.get('image_id') for x in data['annotations'] if x.get('image_id') in image_ids]\n",
    "\n",
    "image_ids = torch.Tensor(image_ids)"
   ]
  },
  {
   "cell_type": "code",
   "execution_count": null,
   "metadata": {},
   "outputs": [],
   "source": [
    "# load images\n",
    "images = []\n",
    "i = 0\n",
    "for filename in glob.glob('datasets/MSCOCO/val/*.jpg'):\n",
    "    im=preprocess(Image.open(filename)).unsqueeze(0).to(device)\n",
    "    images.append(im)\n",
    "    i+=1\n",
    "    if (i%1000) == 0:\n",
    "        print(i)\n",
    "        \n",
    "# turn list to tensor\n",
    "b = torch.Tensor(5000, 3, 224, 224)\n",
    "images = torch.cat(images, out=b)"
   ]
  },
  {
   "cell_type": "code",
   "execution_count": null,
   "metadata": {},
   "outputs": [],
   "source": [
    "# encode images\n",
    "encoded_images = []\n",
    "with torch.no_grad():\n",
    "    for i in range(0, len(images), 32):\n",
    "        im=model.encode_image(images[i:i+32])\n",
    "        encoded_images.append(im)\n",
    "        if (i%512) == 0:\n",
    "            print(i)\n",
    "            \n",
    "# turn list to tensor\n",
    "b = torch.Tensor(5000, 512)\n",
    "encoded_images = torch.cat(encoded_images, out=b)\n",
    "encoded_images /= encoded_images.norm(dim=-1, keepdim=True)"
   ]
  },
  {
   "cell_type": "code",
   "execution_count": null,
   "metadata": {},
   "outputs": [],
   "source": [
    "text = clip.tokenize(captions).to(device)\n",
    "\n",
    "# encode captions\n",
    "text_features = []\n",
    "i = 0\n",
    "with torch.no_grad():\n",
    "    for i in range(0, len(text), 64): \n",
    "        t=model.encode_text(text[i:i+64])\n",
    "        text_features.append(t)\n",
    "        if (i%1024) == 0:\n",
    "            print(i)\n",
    "            \n",
    "# turn list to tensor\n",
    "b = torch.Tensor(25014, 512)\n",
    "text_features = torch.cat(text_features, out=b)\n",
    "text_features /= text_features.norm(dim=-1, keepdim=True)\n",
    "\n",
    "encoded_captions = list(zip(caption_ids, text_features))"
   ]
  },
  {
   "cell_type": "code",
   "execution_count": 91,
   "metadata": {},
   "outputs": [
    {
     "data": {
      "text/plain": [
       "tensor(0.3036)"
      ]
     },
     "execution_count": 91,
     "metadata": {},
     "output_type": "execute_result"
    }
   ],
   "source": [
    "recall_1 = []\n",
    "for image_id, text_feature in encoded_captions: \n",
    "    similarity = (100.0 * text_feature @ encoded_images.T).softmax(dim=-1)\n",
    "    values, indices = similarity.topk(1)\n",
    "\n",
    "    recall_1.append(image_id in image_ids[indices])\n",
    "\n",
    "recall_1 = torch.Tensor(recall_1)\n",
    "\n",
    "recall_1.mean()"
   ]
  },
  {
   "cell_type": "code",
   "execution_count": 92,
   "metadata": {},
   "outputs": [
    {
     "data": {
      "text/plain": [
       "tensor(0.5478)"
      ]
     },
     "execution_count": 92,
     "metadata": {},
     "output_type": "execute_result"
    }
   ],
   "source": [
    "recall_5 = []\n",
    "for image_id, text_feature in encoded_captions: \n",
    "    similarity = (100.0 * text_feature @ encoded_images.T).softmax(dim=-1)\n",
    "    values, indices = similarity.topk(5)\n",
    "\n",
    "    recall_5.append(image_id in image_ids[indices])\n",
    "\n",
    "recall_5 = torch.Tensor(recall_5)\n",
    "\n",
    "recall_5.mean()"
   ]
  },
  {
   "cell_type": "code",
   "execution_count": 93,
   "metadata": {},
   "outputs": [
    {
     "data": {
      "text/plain": [
       "tensor(0.6609)"
      ]
     },
     "execution_count": 93,
     "metadata": {},
     "output_type": "execute_result"
    }
   ],
   "source": [
    "recall_10 = []\n",
    "for image_id, text_feature in encoded_captions: \n",
    "    similarity = (100.0 * text_feature @ encoded_images.T).softmax(dim=-1)\n",
    "    values, indices = similarity.topk(10)\n",
    "\n",
    "    recall_10.append(image_id in image_ids[indices])\n",
    "\n",
    "recall_10 = torch.Tensor(recall_10)\n",
    "\n",
    "recall_10.mean()"
   ]
  },
  {
   "cell_type": "code",
   "execution_count": 94,
   "metadata": {},
   "outputs": [
    {
     "data": {
      "text/plain": [
       "tensor(0.5002)"
      ]
     },
     "execution_count": 94,
     "metadata": {},
     "output_type": "execute_result"
    }
   ],
   "source": [
    "recall_1 = []\n",
    "for i, image in enumerate(encoded_images): \n",
    "    similarity = (100.0 * image @ text_features.T).softmax(dim=-1)\n",
    "    values, indices = similarity.topk(1)\n",
    "    im_ids = []\n",
    "    for indice in indices:\n",
    "        im_ids.append(caption_ids[indice])\n",
    "    recall_1.append(image_ids[i] in im_ids)\n",
    "    \n",
    "recall_1 = torch.Tensor(recall_1)\n",
    "\n",
    "recall_1.mean()"
   ]
  },
  {
   "cell_type": "code",
   "execution_count": 95,
   "metadata": {},
   "outputs": [
    {
     "data": {
      "text/plain": [
       "tensor(0.7498)"
      ]
     },
     "execution_count": 95,
     "metadata": {},
     "output_type": "execute_result"
    }
   ],
   "source": [
    "recall_5 = []\n",
    "for i, image in enumerate(encoded_images): \n",
    "    similarity = (100.0 * image @ text_features.T).softmax(dim=-1)\n",
    "    values, indices = similarity.topk(5)\n",
    "    im_ids = []\n",
    "    for indice in indices:\n",
    "        im_ids.append(caption_ids[indice])\n",
    "    recall_5.append(image_ids[i] in im_ids)\n",
    "    \n",
    "recall_5 = torch.Tensor(recall_5)\n",
    "\n",
    "recall_5.mean()"
   ]
  },
  {
   "cell_type": "code",
   "execution_count": 96,
   "metadata": {},
   "outputs": [
    {
     "data": {
      "text/plain": [
       "tensor(0.8328)"
      ]
     },
     "execution_count": 96,
     "metadata": {},
     "output_type": "execute_result"
    }
   ],
   "source": [
    "recall_10 = []\n",
    "for i, image in enumerate(encoded_images): \n",
    "    similarity = (100.0 * image @ text_features.T).softmax(dim=-1)\n",
    "    values, indices = similarity.topk(10)\n",
    "    im_ids = []\n",
    "    for indice in indices:\n",
    "        im_ids.append(caption_ids[indice])\n",
    "    recall_10.append(image_ids[i] in im_ids)\n",
    "    \n",
    "recall_10 = torch.Tensor(recall_10)\n",
    "\n",
    "recall_10.mean()"
   ]
  },
  {
   "cell_type": "markdown",
   "metadata": {},
   "source": [
    "Old code:"
   ]
  },
  {
   "cell_type": "code",
   "execution_count": null,
   "metadata": {},
   "outputs": [],
   "source": [
    "# load images and encode them 1 by 1, (slow)\n",
    "images = []\n",
    "i = 0\n",
    "with torch.no_grad():\n",
    "    for filename in glob.glob('datasets/MSCOCO/val/*.jpg'):\n",
    "        im=preprocess(Image.open(filename)).unsqueeze(0).to(device)\n",
    "        im=model.encode_image(im)\n",
    "        images.append(im)\n",
    "        i+=1\n",
    "        if (i%100) == 0:\n",
    "            print(i)\n",
    "        if i == 1000:\n",
    "            break\n",
    "            \n",
    "# turn list to tensor\n",
    "b = torch.Tensor(1000, 512)\n",
    "images = torch.cat(images, out=b)\n",
    "images /= images.norm(dim=-1, keepdim=True)"
   ]
  },
  {
   "cell_type": "code",
   "execution_count": null,
   "metadata": {},
   "outputs": [],
   "source": [
    "text = clip.tokenize(captions).to(device)\n",
    "\n",
    "# encode captions 1 by 1\n",
    "text_features = []\n",
    "i = 0\n",
    "with torch.no_grad():\n",
    "    for caption in text:\n",
    "        t=model.encode_text(caption.reshape(1,77))\n",
    "        t /= t.norm(dim=-1, keepdim=True)\n",
    "        text_features.append(t)\n",
    "        i+=1\n",
    "        if (i%100) == 0:\n",
    "            print(i)\n",
    "        if i == 5003:\n",
    "            break\n",
    "            \n",
    "# turn list to tensor\n",
    "b = torch.Tensor(5003, 512)\n",
    "text_features = torch.cat(text_features, out=b)\n",
    "\n",
    "captions = list(zip(caption_ids, text_features))"
   ]
  }
 ],
 "metadata": {
  "kernelspec": {
   "display_name": "Python 3 (ipykernel)",
   "language": "python",
   "name": "python3"
  },
  "language_info": {
   "codemirror_mode": {
    "name": "ipython",
    "version": 3
   },
   "file_extension": ".py",
   "mimetype": "text/x-python",
   "name": "python",
   "nbconvert_exporter": "python",
   "pygments_lexer": "ipython3",
   "version": "3.8.2"
  }
 },
 "nbformat": 4,
 "nbformat_minor": 4
}
